{
 "cells": [
  {
   "cell_type": "markdown",
   "id": "bb9af7be",
   "metadata": {},
   "source": [
    "# TP : Word Embeddings for Classification\n",
    "\n",
    "## Objectives:\n",
    "\n",
    "Explore the various way to represent textual data by applying them to a relatively small French classification dataset based on professionnal certification titles - **RNCP** - and evaluate how they perform on the classification task. \n",
    "1. Using what we have previously seen, pre-process the data: clean it, obtain an appropriate vocabulary.\n",
    "2. Obtain representations: any that will allow us to obtain a vector representation of each document is appropriate.\n",
    "    - Symbolic: **BoW, TF-IDF**\n",
    "    - Dense document representations: via **Topic Modeling: LSA, LDA**\n",
    "    - Dense word representations: **SVD-reduced PPMI, Word2vec, GloVe**\n",
    "        - For these, you will need to implement a **function aggregating word representations into document representations**\n",
    "3. Perform classification: we can make things simple and only use a **logistic regression**"
   ]
  },
  {
   "cell_type": "markdown",
   "id": "e4c7af15",
   "metadata": {},
   "source": [
    "## Necessary dependancies\n",
    "\n",
    "We will need the following packages:\n",
    "- The Machine Learning API Scikit-learn : http://scikit-learn.org/stable/install.html\n",
    "- The Natural Language Toolkit : http://www.nltk.org/install.html\n",
    "- Gensim: https://radimrehurek.com/gensim/\n",
    "\n",
    "These are available with Anaconda: https://anaconda.org/anaconda/nltk and https://anaconda.org/anaconda/scikit-learn"
   ]
  },
  {
   "cell_type": "code",
   "execution_count": 1,
   "id": "079ef84c",
   "metadata": {},
   "outputs": [],
   "source": [
    "import os.path as op\n",
    "import re \n",
    "import numpy as np\n",
    "import pprint\n",
    "import pandas as pd\n",
    "import gzip\n",
    "from sklearn.model_selection import train_test_split\n",
    "import string as st\n",
    "import warnings \n",
    "pp = pprint.PrettyPrinter(indent=3)"
   ]
  },
  {
   "cell_type": "markdown",
   "id": "0a147280",
   "metadata": {},
   "source": [
    "## Loading data\n",
    "\n",
    "Let's load the data: take a first look."
   ]
  },
  {
   "cell_type": "code",
   "execution_count": 2,
   "id": "b7a5e3e2",
   "metadata": {},
   "outputs": [
    {
     "name": "stdout",
     "output_type": "stream",
     "text": [
      "   Categorie                                text_certifications\n",
      "0          1  Responsable de chantiers de bûcheronnage manue...\n",
      "1          1  Responsable de chantiers de bûcheronnage manue...\n",
      "2          1                                 Travaux forestiers\n",
      "3          1                                              Forêt\n",
      "4          1                                              Forêt\n"
     ]
    }
   ],
   "source": [
    "with open(\"rncp.csv\", encoding='utf-8') as f:\n",
    "    rncp = pd.read_csv(f, na_filter=False)\n",
    "\n",
    "print(rncp.head())"
   ]
  },
  {
   "cell_type": "code",
   "execution_count": 3,
   "id": "2b21e6e3",
   "metadata": {},
   "outputs": [
    {
     "name": "stdout",
     "output_type": "stream",
     "text": [
      "['Categorie' 'text_certifications']\n"
     ]
    }
   ],
   "source": [
    "print(rncp.columns.values)\n",
    "texts = rncp.loc[:,'text_certifications'].astype('str').tolist()\n",
    "labels = rncp.loc[:,'Categorie'].astype('str').tolist()"
   ]
  },
  {
   "cell_type": "markdown",
   "id": "266fa04f",
   "metadata": {},
   "source": [
    "You can see that the first column is the category, the second the title of the certification. Let's get the category names for clarity: "
   ]
  },
  {
   "cell_type": "code",
   "execution_count": 4,
   "id": "9293f236",
   "metadata": {},
   "outputs": [],
   "source": [
    "Categories = [\"1-environnement\",\n",
    "              \"2-defense\",\n",
    "              \"3-patrimoine\",\n",
    "              \"4-economie\",\n",
    "              \"5-recherche\",\n",
    "              \"6-nautisme\",\n",
    "              \"7-aeronautique\",\n",
    "              \"8-securite\",\n",
    "              \"9-multimedia\",\n",
    "              \"10-humanitaire\",\n",
    "              \"11-nucleaire\",\n",
    "              \"12-enfance\",\n",
    "              \"13-saisonnier\",\n",
    "              \"14-assistance\",\n",
    "              \"15-sport\",\n",
    "              \"16-ingenierie\"]"
   ]
  },
  {
   "cell_type": "code",
   "execution_count": 5,
   "id": "a2abb70a",
   "metadata": {},
   "outputs": [
    {
     "name": "stdout",
     "output_type": "stream",
     "text": [
      "[  'Responsable de chantiers de bûcheronnage manuel et de débardage',\n",
      "   'Responsable de chantiers de bûcheronnage manuel et de sylviculture',\n",
      "   'Travaux forestiers',\n",
      "   'Forêt',\n",
      "   'Forêt',\n",
      "   'Responsable de chantiers forestiers',\n",
      "   'Diagnostic et taille des arbres',\n",
      "   'option Chef d’entreprise ou OHQ en travaux forestiers, spécialité '\n",
      "   'abattage-façonnage',\n",
      "   'option Chef d’entreprise ou OHQ en travaux forestiers, spécialité '\n",
      "   'débardage',\n",
      "   'Gestion et conduite de chantiers forestiers']\n"
     ]
    }
   ],
   "source": [
    "pp.pprint(texts[:10])"
   ]
  },
  {
   "cell_type": "code",
   "execution_count": 6,
   "id": "9599792e",
   "metadata": {},
   "outputs": [
    {
     "name": "stdout",
     "output_type": "stream",
     "text": [
      "Number of documents: 23578\n",
      "['Responsable de chantiers de bûcheronnage manuel et de débardage', 'Forêt', 'option Chef d’entreprise ou OHQ en travaux forestiers, spécialité débardage', 'Arboriste-grimpeur', 'arboriste élagueur', 'Agrosciences, environnement, territoires, paysage, forêt (fiche nationale)', 'Technicien de rivière GEMAPI', 'Licence Professionnelle Mention Aménagement du paysage, Spécialité Aménagement et gestion écologiques des paysages urbains', 'Productions végétales spécialité Protection des cultures', 'Chargé de maintenance technique polyvalent']\n"
     ]
    }
   ],
   "source": [
    "# This number of documents may be high for some computers: we can select a fraction of them (here, one in k)\n",
    "# Use an even number to keep the same number of positive and negative reviews\n",
    "k =4 \n",
    "texts_reduced = texts[0::k]\n",
    "labels_reduced = labels[0::k]\n",
    "\n",
    "print('Number of documents:', len(texts_reduced))\n",
    "print(texts_reduced[:10])"
   ]
  },
  {
   "cell_type": "markdown",
   "id": "fcd53e33",
   "metadata": {},
   "source": [
    "Use the function ```train_test_split```from ```sklearn``` function to set aside test data that you will use during the lab. Make it one fifth of the data you have currently.\n",
    "\n",
    "<div class='alert alert-block alert-info'>\n",
    "            Code:</div>"
   ]
  },
  {
   "cell_type": "code",
   "execution_count": 7,
   "id": "c5be9da0",
   "metadata": {},
   "outputs": [],
   "source": [
    "x_train, x_test, labels_reduced, test_labels = train_test_split(texts_reduced,labels_reduced,random_state=42)"
   ]
  },
  {
   "cell_type": "markdown",
   "id": "acbce6d4",
   "metadata": {},
   "source": [
    "## 1 - Document Preprocessing\n",
    "\n",
    "You should use a pre-processing function you can apply to the raw text before any other processing (*i.e*, tokenization and obtaining representations). Some pre-processing can also be tied with the tokenization (*i.e*, removing stop words). Complete the following function, using the appropriate ```nltk``` tools. \n",
    "<div class='alert alert-block alert-info'>\n",
    "            Code:</div>"
   ]
  },
  {
   "cell_type": "code",
   "execution_count": 8,
   "id": "cda4b8aa",
   "metadata": {},
   "outputs": [
    {
     "name": "stderr",
     "output_type": "stream",
     "text": [
      "[nltk_data] Downloading package stopwords to\n",
      "[nltk_data]     C:\\Users\\pcd\\AppData\\Roaming\\nltk_data...\n",
      "[nltk_data]   Package stopwords is already up-to-date!\n"
     ]
    },
    {
     "data": {
      "text/plain": [
       "True"
      ]
     },
     "execution_count": 8,
     "metadata": {},
     "output_type": "execute_result"
    }
   ],
   "source": [
    "import nltk\n",
    "from nltk.corpus import stopwords\n",
    "from nltk.stem import PorterStemmer,WordNetLemmatizer \n",
    "nltk.download('stopwords')\n"
   ]
  },
  {
   "cell_type": "code",
   "execution_count": 9,
   "id": "5e076e6e",
   "metadata": {},
   "outputs": [],
   "source": [
    "# Imports\n",
    "\n",
    "\n",
    "#stemmer = PorterStemmer()\n",
    "stemmer = WordNetLemmatizer()\n",
    "\n",
    "def document_preprocessing(sentence):\n",
    "\n",
    "    sentence = sentence.lower()\n",
    "    tokens = nltk.word_tokenize(sentence)\n",
    "    tokens = [token for token in tokens if token not in st.punctuation]\n",
    "    stop_words = stopwords.words('french')\n",
    "    tokens = [token for token in tokens if token not in stop_words]\n",
    "    tokens = [stemmer.lemmatize(token) for token in tokens]\n",
    "    \n",
    "    return ' '.join(tokens)\n"
   ]
  },
  {
   "cell_type": "markdown",
   "id": "7632db6f",
   "metadata": {},
   "source": [
    "<div class='alert alert-block alert-info'>\n",
    "            Code:</div>"
   ]
  },
  {
   "cell_type": "code",
   "execution_count": 10,
   "id": "9b33d4d2",
   "metadata": {},
   "outputs": [
    {
     "name": "stdout",
     "output_type": "stream",
     "text": [
      "['responsable chantiers bûcheronnage manuel débardage', 'forêt', 'option chef ’ entreprise ohq travaux forestiers spécialité débardage', 'arboriste-grimpeur', 'arboriste élagueur', 'agrosciences environnement territoires paysage forêt fiche nationale', 'technicien rivière gemapi', 'licence professionnelle mention aménagement paysage spécialité aménagement gestion écologiques paysages urbains', 'production végétales spécialité protection culture', 'chargé maintenance technique polyvalent']\n"
     ]
    }
   ],
   "source": [
    "# Look at the data and apply the appropriate pre-processing\n",
    "texts_reduced = [document_preprocessing(element) for element in texts_reduced]\n",
    "x_train = [document_preprocessing(element) for element in x_train]\n",
    "x_test = [document_preprocessing(element) for element in x_test]\n",
    "\n",
    "print(texts_reduced[:10])"
   ]
  },
  {
   "cell_type": "markdown",
   "id": "2c4140f1",
   "metadata": {},
   "source": [
    "Now that the data is cleaned, the first step we will follow is to pick a common vocabulary that we will use for every representations we obtain in this lab. **Use the code of the previous lab to create a vocabulary.**\n",
    "\n",
    "<div class='alert alert-block alert-info'>\n",
    "            Code:</div>"
   ]
  },
  {
   "cell_type": "code",
   "execution_count": 66,
   "id": "6910a7e4",
   "metadata": {},
   "outputs": [
    {
     "name": "stdout",
     "output_type": "stream",
     "text": [
      "Size of the vocabulary : 5028\n"
     ]
    }
   ],
   "source": [
    "from typing import Tuple, Dict\n",
    "\n",
    "def create_vocabulary(texts) -> Tuple[Dict[str, int], np.ndarray]:\n",
    "    vocabulary_set = set()\n",
    "    [vocabulary_set.add(word) for text in texts for word in text.split()]\n",
    "    vocabulary= {word: index for index, word in enumerate(vocabulary_set)}\n",
    "    return vocabulary\n",
    "\n",
    "\n",
    "vocabulary = create_vocabulary(texts_reduced)\n",
    "print(f\"Size of the vocabulary : {len(vocabulary)}\")"
   ]
  },
  {
   "cell_type": "markdown",
   "id": "bcb7810f",
   "metadata": {},
   "source": [
    "What do you think is the **appropriate vocabulary size here** ? Would any further pre-processing make sense ? Motivate your answer.\n",
    "\n",
    "<div class='alert alert-block alert-warning'>\n",
    "            Question:</div>"
   ]
  },
  {
   "cell_type": "markdown",
   "id": "fc3bff30",
   "metadata": {},
   "source": [
    "**Answer** :\n",
    "\n",
    "A vocabulary size of 5028 can be appropriate depending on your dataset's size and diversity, and the specific NLP task,So based on the given dataset which is considered huge the vocabulary size should be kinda high, but here 5028 is considered very high and memory consuming and can cause some problem in addition if we perfom some task in nlp when we represent each document by a vector of 5028 it is terrible. \n",
    "\n",
    "solution:\n",
    "\n",
    "Consider additional preprocessing like removing high-frequency and low-frequency words to refine the vocabulary. Utilizing techniques such as TF-IDF might help in emphasizing more relevant words. Adjusting vocabulary size based on model performance and error analysis is also advisable,especially those like n-gram, dimentionality reduction, or even using Neural netwrok embedding.\n",
    "\n",
    "Experimentation with these elements will help in optimizing the effectiveness of your NLP model."
   ]
  },
  {
   "cell_type": "markdown",
   "id": "260f7b7d",
   "metadata": {},
   "source": [
    "## 2 - Symbolic text representations\n",
    "\n",
    "We can use the ```CountVectorizer``` class from scikit-learn to obtain the first set of representations:\n",
    "- Use the appropriate argument to get your own vocabulary\n",
    "- Fit the vectorizer on your training data, transform your test data\n",
    "- Create a ```LogisticRegression``` model and train it with these representations. Display the confusion matrix using functions from ```sklearn.metrics``` \n",
    "\n",
    "Then, re-execute the same pipeline with the ```TfidfVectorizer```.\n",
    "\n",
    "<div class='alert alert-block alert-info'>\n",
    "            Code:</div>"
   ]
  },
  {
   "cell_type": "code",
   "execution_count": 12,
   "id": "1601c205",
   "metadata": {},
   "outputs": [
    {
     "name": "stdout",
     "output_type": "stream",
     "text": [
      "The accuracy acheived by Logistic Regression is : 0.22527565733672603\n"
     ]
    }
   ],
   "source": [
    "from sklearn.feature_extraction.text import CountVectorizer\n",
    "from sklearn.linear_model import LogisticRegression\n",
    "from sklearn.metrics import confusion_matrix\n",
    "import seaborn as sns\n",
    "from sklearn.metrics import accuracy_score\n",
    "\n",
    "import matplotlib.pyplot as plt\n",
    "\n",
    "# Assuming X_train and X_test are your training and test sets, and y_train and y_test are the labels\n",
    "vectorizer = CountVectorizer(vocabulary=vocabulary)  # Replace 'your_own_vocabulary' with your predefined list of words\n",
    "X_train_vec = vectorizer.fit_transform(x_train)\n",
    "X_test_vec = vectorizer.transform(x_test)\n",
    "\n",
    "model = LogisticRegression(max_iter=300)\n",
    "model.fit(X_train_vec, labels_reduced)\n",
    "y_pred = model.predict(X_test_vec)\n",
    "\n",
    "\n",
    "# print the accuracy \n",
    "\n",
    "print(f'The accuracy acheived by Logistic Regression is : {accuracy_score(test_labels,y_pred)}')"
   ]
  },
  {
   "cell_type": "markdown",
   "metadata": {},
   "source": [
    "this is a very bad score since the logistic regression is designed to handel binary classification so here is not the case that is why we can see above a bad classification/"
   ]
  },
  {
   "cell_type": "code",
   "execution_count": 13,
   "id": "356a8df2",
   "metadata": {},
   "outputs": [
    {
     "data": {
      "image/png": "[encoded data removed]",
      "text/plain": [
       "<Figure size 640x480 with 2 Axes>"
      ]
     },
     "metadata": {},
     "output_type": "display_data"
    }
   ],
   "source": [
    "# Displaying the confusion matrix\n",
    "cm = confusion_matrix(test_labels, y_pred)\n",
    "\n",
    "sns.heatmap(cm, annot=True, fmt='d', cmap='Blues')\n",
    "plt.xlabel('Predicted labels')\n",
    "plt.ylabel('True labels')\n",
    "plt.title('Confusion Matrix')\n",
    "plt.show()"
   ]
  },
  {
   "cell_type": "code",
   "execution_count": 14,
   "id": "70c33e33",
   "metadata": {},
   "outputs": [
    {
     "name": "stdout",
     "output_type": "stream",
     "text": [
      "The accuracy acheived by Logistic Regression is : 0.24393553859202713\n"
     ]
    }
   ],
   "source": [
    "from sklearn.feature_extraction.text import TfidfVectorizer\n",
    "\n",
    "# Using TfidfVectorizer\n",
    "tfidf_vectorizer = TfidfVectorizer(vocabulary=vocabulary)  \n",
    "X_train_tfidf = tfidf_vectorizer.fit_transform(x_train)\n",
    "X_test_tfidf = tfidf_vectorizer.transform(x_test)\n",
    "\n",
    "model_tfidf = LogisticRegression(max_iter=300)\n",
    "model_tfidf.fit(X_train_tfidf, labels_reduced)\n",
    "y_pred_tfidf = model_tfidf.predict(X_test_tfidf)\n",
    "\n",
    "# display the score \n",
    "\n",
    "print(f'The accuracy acheived by Logistic Regression is : {accuracy_score(test_labels,y_pred_tfidf)}')\n"
   ]
  },
  {
   "cell_type": "code",
   "execution_count": 15,
   "id": "3ea3bcf1",
   "metadata": {},
   "outputs": [
    {
     "data": {
      "image/png": "[encoded data removed]",
      "text/plain": [
       "<Figure size 640x480 with 2 Axes>"
      ]
     },
     "metadata": {},
     "output_type": "display_data"
    }
   ],
   "source": [
    "# Displaying the confusion matrix\n",
    "cm = confusion_matrix(test_labels, y_pred)\n",
    "\n",
    "sns.heatmap(cm, annot=True, fmt='d', cmap='Blues')\n",
    "plt.xlabel('Predicted labels')\n",
    "plt.ylabel('True labels')\n",
    "plt.title('Confusion Matrix')\n",
    "plt.show()"
   ]
  },
  {
   "cell_type": "code",
   "execution_count": 16,
   "id": "a42903db",
   "metadata": {},
   "outputs": [
    {
     "name": "stdout",
     "output_type": "stream",
     "text": [
      "{'C': 1.0, 'class_weight': None, 'dual': False, 'fit_intercept': True, 'intercept_scaling': 1, 'l1_ratio': None, 'max_iter': 100, 'multi_class': 'auto', 'n_jobs': None, 'penalty': 'l2', 'random_state': None, 'solver': 'lbfgs', 'tol': 0.0001, 'verbose': 0, 'warm_start': False}\n"
     ]
    }
   ],
   "source": [
    "print(LogisticRegression().get_params())"
   ]
  },
  {
   "cell_type": "code",
   "execution_count": 20,
   "id": "0e932d6f",
   "metadata": {},
   "outputs": [
    {
     "name": "stderr",
     "output_type": "stream",
     "text": [
      "c:\\ProgramData\\anaconda3\\Lib\\site-packages\\sklearn\\linear_model\\_logistic.py:458: ConvergenceWarning: lbfgs failed to converge (status=1):\n",
      "STOP: TOTAL NO. of ITERATIONS REACHED LIMIT.\n",
      "\n",
      "Increase the number of iterations (max_iter) or scale the data as shown in:\n",
      "    https://scikit-learn.org/stable/modules/preprocessing.html\n",
      "Please also refer to the documentation for alternative solver options:\n",
      "    https://scikit-learn.org/stable/modules/linear_model.html#logistic-regression\n",
      "  n_iter_i = _check_optimize_result(\n",
      "c:\\ProgramData\\anaconda3\\Lib\\site-packages\\sklearn\\linear_model\\_logistic.py:458: ConvergenceWarning: lbfgs failed to converge (status=1):\n",
      "STOP: TOTAL NO. of ITERATIONS REACHED LIMIT.\n",
      "\n",
      "Increase the number of iterations (max_iter) or scale the data as shown in:\n",
      "    https://scikit-learn.org/stable/modules/preprocessing.html\n",
      "Please also refer to the documentation for alternative solver options:\n",
      "    https://scikit-learn.org/stable/modules/linear_model.html#logistic-regression\n",
      "  n_iter_i = _check_optimize_result(\n",
      "c:\\ProgramData\\anaconda3\\Lib\\site-packages\\sklearn\\linear_model\\_logistic.py:458: ConvergenceWarning: lbfgs failed to converge (status=1):\n",
      "STOP: TOTAL NO. of ITERATIONS REACHED LIMIT.\n",
      "\n",
      "Increase the number of iterations (max_iter) or scale the data as shown in:\n",
      "    https://scikit-learn.org/stable/modules/preprocessing.html\n",
      "Please also refer to the documentation for alternative solver options:\n",
      "    https://scikit-learn.org/stable/modules/linear_model.html#logistic-regression\n",
      "  n_iter_i = _check_optimize_result(\n",
      "c:\\ProgramData\\anaconda3\\Lib\\site-packages\\sklearn\\linear_model\\_logistic.py:458: ConvergenceWarning: lbfgs failed to converge (status=1):\n",
      "STOP: TOTAL NO. of ITERATIONS REACHED LIMIT.\n",
      "\n",
      "Increase the number of iterations (max_iter) or scale the data as shown in:\n",
      "    https://scikit-learn.org/stable/modules/preprocessing.html\n",
      "Please also refer to the documentation for alternative solver options:\n",
      "    https://scikit-learn.org/stable/modules/linear_model.html#logistic-regression\n",
      "  n_iter_i = _check_optimize_result(\n",
      "c:\\ProgramData\\anaconda3\\Lib\\site-packages\\sklearn\\linear_model\\_logistic.py:458: ConvergenceWarning: lbfgs failed to converge (status=1):\n",
      "STOP: TOTAL NO. of ITERATIONS REACHED LIMIT.\n",
      "\n",
      "Increase the number of iterations (max_iter) or scale the data as shown in:\n",
      "    https://scikit-learn.org/stable/modules/preprocessing.html\n",
      "Please also refer to the documentation for alternative solver options:\n",
      "    https://scikit-learn.org/stable/modules/linear_model.html#logistic-regression\n",
      "  n_iter_i = _check_optimize_result(\n",
      "c:\\ProgramData\\anaconda3\\Lib\\site-packages\\sklearn\\linear_model\\_logistic.py:458: ConvergenceWarning: lbfgs failed to converge (status=1):\n",
      "STOP: TOTAL NO. of ITERATIONS REACHED LIMIT.\n",
      "\n",
      "Increase the number of iterations (max_iter) or scale the data as shown in:\n",
      "    https://scikit-learn.org/stable/modules/preprocessing.html\n",
      "Please also refer to the documentation for alternative solver options:\n",
      "    https://scikit-learn.org/stable/modules/linear_model.html#logistic-regression\n",
      "  n_iter_i = _check_optimize_result(\n",
      "c:\\ProgramData\\anaconda3\\Lib\\site-packages\\sklearn\\linear_model\\_logistic.py:458: ConvergenceWarning: lbfgs failed to converge (status=1):\n",
      "STOP: TOTAL NO. of ITERATIONS REACHED LIMIT.\n",
      "\n",
      "Increase the number of iterations (max_iter) or scale the data as shown in:\n",
      "    https://scikit-learn.org/stable/modules/preprocessing.html\n",
      "Please also refer to the documentation for alternative solver options:\n",
      "    https://scikit-learn.org/stable/modules/linear_model.html#logistic-regression\n",
      "  n_iter_i = _check_optimize_result(\n",
      "c:\\ProgramData\\anaconda3\\Lib\\site-packages\\sklearn\\linear_model\\_logistic.py:458: ConvergenceWarning: lbfgs failed to converge (status=1):\n",
      "STOP: TOTAL NO. of ITERATIONS REACHED LIMIT.\n",
      "\n",
      "Increase the number of iterations (max_iter) or scale the data as shown in:\n",
      "    https://scikit-learn.org/stable/modules/preprocessing.html\n",
      "Please also refer to the documentation for alternative solver options:\n",
      "    https://scikit-learn.org/stable/modules/linear_model.html#logistic-regression\n",
      "  n_iter_i = _check_optimize_result(\n",
      "c:\\ProgramData\\anaconda3\\Lib\\site-packages\\sklearn\\linear_model\\_logistic.py:458: ConvergenceWarning: lbfgs failed to converge (status=1):\n",
      "STOP: TOTAL NO. of ITERATIONS REACHED LIMIT.\n",
      "\n",
      "Increase the number of iterations (max_iter) or scale the data as shown in:\n",
      "    https://scikit-learn.org/stable/modules/preprocessing.html\n",
      "Please also refer to the documentation for alternative solver options:\n",
      "    https://scikit-learn.org/stable/modules/linear_model.html#logistic-regression\n",
      "  n_iter_i = _check_optimize_result(\n",
      "c:\\ProgramData\\anaconda3\\Lib\\site-packages\\sklearn\\linear_model\\_logistic.py:458: ConvergenceWarning: lbfgs failed to converge (status=1):\n",
      "STOP: TOTAL NO. of ITERATIONS REACHED LIMIT.\n",
      "\n",
      "Increase the number of iterations (max_iter) or scale the data as shown in:\n",
      "    https://scikit-learn.org/stable/modules/preprocessing.html\n",
      "Please also refer to the documentation for alternative solver options:\n",
      "    https://scikit-learn.org/stable/modules/linear_model.html#logistic-regression\n",
      "  n_iter_i = _check_optimize_result(\n",
      "c:\\ProgramData\\anaconda3\\Lib\\site-packages\\sklearn\\linear_model\\_logistic.py:458: ConvergenceWarning: lbfgs failed to converge (status=1):\n",
      "STOP: TOTAL NO. of ITERATIONS REACHED LIMIT.\n",
      "\n",
      "Increase the number of iterations (max_iter) or scale the data as shown in:\n",
      "    https://scikit-learn.org/stable/modules/preprocessing.html\n",
      "Please also refer to the documentation for alternative solver options:\n",
      "    https://scikit-learn.org/stable/modules/linear_model.html#logistic-regression\n",
      "  n_iter_i = _check_optimize_result(\n",
      "c:\\ProgramData\\anaconda3\\Lib\\site-packages\\sklearn\\linear_model\\_logistic.py:458: ConvergenceWarning: lbfgs failed to converge (status=1):\n",
      "STOP: TOTAL NO. of ITERATIONS REACHED LIMIT.\n",
      "\n",
      "Increase the number of iterations (max_iter) or scale the data as shown in:\n",
      "    https://scikit-learn.org/stable/modules/preprocessing.html\n",
      "Please also refer to the documentation for alternative solver options:\n",
      "    https://scikit-learn.org/stable/modules/linear_model.html#logistic-regression\n",
      "  n_iter_i = _check_optimize_result(\n",
      "c:\\ProgramData\\anaconda3\\Lib\\site-packages\\sklearn\\linear_model\\_logistic.py:458: ConvergenceWarning: lbfgs failed to converge (status=1):\n",
      "STOP: TOTAL NO. of ITERATIONS REACHED LIMIT.\n",
      "\n",
      "Increase the number of iterations (max_iter) or scale the data as shown in:\n",
      "    https://scikit-learn.org/stable/modules/preprocessing.html\n",
      "Please also refer to the documentation for alternative solver options:\n",
      "    https://scikit-learn.org/stable/modules/linear_model.html#logistic-regression\n",
      "  n_iter_i = _check_optimize_result(\n",
      "c:\\ProgramData\\anaconda3\\Lib\\site-packages\\sklearn\\linear_model\\_logistic.py:458: ConvergenceWarning: lbfgs failed to converge (status=1):\n",
      "STOP: TOTAL NO. of ITERATIONS REACHED LIMIT.\n",
      "\n",
      "Increase the number of iterations (max_iter) or scale the data as shown in:\n",
      "    https://scikit-learn.org/stable/modules/preprocessing.html\n",
      "Please also refer to the documentation for alternative solver options:\n",
      "    https://scikit-learn.org/stable/modules/linear_model.html#logistic-regression\n",
      "  n_iter_i = _check_optimize_result(\n",
      "c:\\ProgramData\\anaconda3\\Lib\\site-packages\\sklearn\\linear_model\\_logistic.py:458: ConvergenceWarning: lbfgs failed to converge (status=1):\n",
      "STOP: TOTAL NO. of ITERATIONS REACHED LIMIT.\n",
      "\n",
      "Increase the number of iterations (max_iter) or scale the data as shown in:\n",
      "    https://scikit-learn.org/stable/modules/preprocessing.html\n",
      "Please also refer to the documentation for alternative solver options:\n",
      "    https://scikit-learn.org/stable/modules/linear_model.html#logistic-regression\n",
      "  n_iter_i = _check_optimize_result(\n",
      "c:\\ProgramData\\anaconda3\\Lib\\site-packages\\sklearn\\model_selection\\_validation.py:378: FitFailedWarning: \n",
      "15 fits failed out of a total of 60.\n",
      "The score on these train-test partitions for these parameters will be set to nan.\n",
      "If these failures are not expected, you can try to debug them by setting error_score='raise'.\n",
      "\n",
      "Below are more details about the failures:\n",
      "--------------------------------------------------------------------------------\n",
      "15 fits failed with the following error:\n",
      "Traceback (most recent call last):\n",
      "  File \"c:\\ProgramData\\anaconda3\\Lib\\site-packages\\sklearn\\model_selection\\_validation.py\", line 686, in _fit_and_score\n",
      "    estimator.fit(X_train, y_train, **fit_params)\n",
      "  File \"c:\\ProgramData\\anaconda3\\Lib\\site-packages\\sklearn\\linear_model\\_logistic.py\", line 1160, in fit\n",
      "    self._validate_params()\n",
      "  File \"c:\\ProgramData\\anaconda3\\Lib\\site-packages\\sklearn\\base.py\", line 600, in _validate_params\n",
      "    validate_parameter_constraints(\n",
      "  File \"c:\\ProgramData\\anaconda3\\Lib\\site-packages\\sklearn\\utils\\_param_validation.py\", line 97, in validate_parameter_constraints\n",
      "    raise InvalidParameterError(\n",
      "sklearn.utils._param_validation.InvalidParameterError: The 'C' parameter of LogisticRegression must be a float in the range (0, inf]. Got 0 instead.\n",
      "\n",
      "  warnings.warn(some_fits_failed_message, FitFailedWarning)\n",
      "c:\\ProgramData\\anaconda3\\Lib\\site-packages\\sklearn\\model_selection\\_search.py:952: UserWarning: One or more of the test scores are non-finite: [       nan        nan        nan 0.24124859 0.24119208 0.24119208\n",
      " 0.23796858 0.23836441 0.23836441 0.2349149  0.23395343 0.23395343]\n",
      "  warnings.warn(\n",
      "c:\\ProgramData\\anaconda3\\Lib\\site-packages\\sklearn\\linear_model\\_logistic.py:458: ConvergenceWarning: lbfgs failed to converge (status=1):\n",
      "STOP: TOTAL NO. of ITERATIONS REACHED LIMIT.\n",
      "\n",
      "Increase the number of iterations (max_iter) or scale the data as shown in:\n",
      "    https://scikit-learn.org/stable/modules/preprocessing.html\n",
      "Please also refer to the documentation for alternative solver options:\n",
      "    https://scikit-learn.org/stable/modules/linear_model.html#logistic-regression\n",
      "  n_iter_i = _check_optimize_result(\n"
     ]
    },
    {
     "data": {
      "text/html": [
       "<style>#sk-container-id-1 {color: black;background-color: white;}#sk-container-id-1 pre{padding: 0;}#sk-container-id-1 div.sk-toggleable {background-color: white;}#sk-container-id-1 label.sk-toggleable__label {cursor: pointer;display: block;width: 100%;margin-bottom: 0;padding: 0.3em;box-sizing: border-box;text-align: center;}#sk-container-id-1 label.sk-toggleable__label-arrow:before {content: \"▸\";float: left;margin-right: 0.25em;color: #696969;}#sk-container-id-1 label.sk-toggleable__label-arrow:hover:before {color: black;}#sk-container-id-1 div.sk-estimator:hover label.sk-toggleable__label-arrow:before {color: black;}#sk-container-id-1 div.sk-toggleable__content {max-height: 0;max-width: 0;overflow: hidden;text-align: left;background-color: #f0f8ff;}#sk-container-id-1 div.sk-toggleable__content pre {margin: 0.2em;color: black;border-radius: 0.25em;background-color: #f0f8ff;}#sk-container-id-1 input.sk-toggleable__control:checked~div.sk-toggleable__content {max-height: 200px;max-width: 100%;overflow: auto;}#sk-container-id-1 input.sk-toggleable__control:checked~label.sk-toggleable__label-arrow:before {content: \"▾\";}#sk-container-id-1 div.sk-estimator input.sk-toggleable__control:checked~label.sk-toggleable__label {background-color: #d4ebff;}#sk-container-id-1 div.sk-label input.sk-toggleable__control:checked~label.sk-toggleable__label {background-color: #d4ebff;}#sk-container-id-1 input.sk-hidden--visually {border: 0;clip: rect(1px 1px 1px 1px);clip: rect(1px, 1px, 1px, 1px);height: 1px;margin: -1px;overflow: hidden;padding: 0;position: absolute;width: 1px;}#sk-container-id-1 div.sk-estimator {font-family: monospace;background-color: #f0f8ff;border: 1px dotted black;border-radius: 0.25em;box-sizing: border-box;margin-bottom: 0.5em;}#sk-container-id-1 div.sk-estimator:hover {background-color: #d4ebff;}#sk-container-id-1 div.sk-parallel-item::after {content: \"\";width: 100%;border-bottom: 1px solid gray;flex-grow: 1;}#sk-container-id-1 div.sk-label:hover label.sk-toggleable__label {background-color: #d4ebff;}#sk-container-id-1 div.sk-serial::before {content: \"\";position: absolute;border-left: 1px solid gray;box-sizing: border-box;top: 0;bottom: 0;left: 50%;z-index: 0;}#sk-container-id-1 div.sk-serial {display: flex;flex-direction: column;align-items: center;background-color: white;padding-right: 0.2em;padding-left: 0.2em;position: relative;}#sk-container-id-1 div.sk-item {position: relative;z-index: 1;}#sk-container-id-1 div.sk-parallel {display: flex;align-items: stretch;justify-content: center;background-color: white;position: relative;}#sk-container-id-1 div.sk-item::before, #sk-container-id-1 div.sk-parallel-item::before {content: \"\";position: absolute;border-left: 1px solid gray;box-sizing: border-box;top: 0;bottom: 0;left: 50%;z-index: -1;}#sk-container-id-1 div.sk-parallel-item {display: flex;flex-direction: column;z-index: 1;position: relative;background-color: white;}#sk-container-id-1 div.sk-parallel-item:first-child::after {align-self: flex-end;width: 50%;}#sk-container-id-1 div.sk-parallel-item:last-child::after {align-self: flex-start;width: 50%;}#sk-container-id-1 div.sk-parallel-item:only-child::after {width: 0;}#sk-container-id-1 div.sk-dashed-wrapped {border: 1px dashed gray;margin: 0 0.4em 0.5em 0.4em;box-sizing: border-box;padding-bottom: 0.4em;background-color: white;}#sk-container-id-1 div.sk-label label {font-family: monospace;font-weight: bold;display: inline-block;line-height: 1.2em;}#sk-container-id-1 div.sk-label-container {text-align: center;}#sk-container-id-1 div.sk-container {/* jupyter's `normalize.less` sets `[hidden] { display: none; }` but bootstrap.min.css set `[hidden] { display: none !important; }` so we also need the `!important` here to be able to override the default hidden behavior on the sphinx rendered scikit-learn.org. See: https://github.com/scikit-learn/scikit-learn/issues/21755 */display: inline-block !important;position: relative;}#sk-container-id-1 div.sk-text-repr-fallback {display: none;}</style><div id=\"sk-container-id-1\" class=\"sk-top-container\"><div class=\"sk-text-repr-fallback\"><pre>GridSearchCV(cv=5, estimator=LogisticRegression(),\n",
       "             param_grid={&#x27;C&#x27;: [0, 0.5, 0.7, 1], &#x27;max_iter&#x27;: [100, 250, 350]})</pre><b>In a Jupyter environment, please rerun this cell to show the HTML representation or trust the notebook. <br />On GitHub, the HTML representation is unable to render, please try loading this page with nbviewer.org.</b></div><div class=\"sk-container\" hidden><div class=\"sk-item sk-dashed-wrapped\"><div class=\"sk-label-container\"><div class=\"sk-label sk-toggleable\"><input class=\"sk-toggleable__control sk-hidden--visually\" id=\"sk-estimator-id-1\" type=\"checkbox\" ><label for=\"sk-estimator-id-1\" class=\"sk-toggleable__label sk-toggleable__label-arrow\">GridSearchCV</label><div class=\"sk-toggleable__content\"><pre>GridSearchCV(cv=5, estimator=LogisticRegression(),\n",
       "             param_grid={&#x27;C&#x27;: [0, 0.5, 0.7, 1], &#x27;max_iter&#x27;: [100, 250, 350]})</pre></div></div></div><div class=\"sk-parallel\"><div class=\"sk-parallel-item\"><div class=\"sk-item\"><div class=\"sk-label-container\"><div class=\"sk-label sk-toggleable\"><input class=\"sk-toggleable__control sk-hidden--visually\" id=\"sk-estimator-id-2\" type=\"checkbox\" ><label for=\"sk-estimator-id-2\" class=\"sk-toggleable__label sk-toggleable__label-arrow\">estimator: LogisticRegression</label><div class=\"sk-toggleable__content\"><pre>LogisticRegression()</pre></div></div></div><div class=\"sk-serial\"><div class=\"sk-item\"><div class=\"sk-estimator sk-toggleable\"><input class=\"sk-toggleable__control sk-hidden--visually\" id=\"sk-estimator-id-3\" type=\"checkbox\" ><label for=\"sk-estimator-id-3\" class=\"sk-toggleable__label sk-toggleable__label-arrow\">LogisticRegression</label><div class=\"sk-toggleable__content\"><pre>LogisticRegression()</pre></div></div></div></div></div></div></div></div></div></div>"
      ],
      "text/plain": [
       "GridSearchCV(cv=5, estimator=LogisticRegression(),\n",
       "             param_grid={'C': [0, 0.5, 0.7, 1], 'max_iter': [100, 250, 350]})"
      ]
     },
     "execution_count": 20,
     "metadata": {},
     "output_type": "execute_result"
    }
   ],
   "source": [
    "\n",
    "from sklearn.model_selection import GridSearchCV\n",
    "\n",
    "pramaters = {'max_iter':[100,250,350],'C':[0,0.5,0.7,1]}\n",
    "model = LogisticRegression()\n",
    "model_tuned = GridSearchCV(estimator=model,param_grid=pramaters,cv=5)\n",
    "\n",
    "model_tuned.fit(X_train_vec,labels_reduced)\n",
    "\n",
    "\n"
   ]
  },
  {
   "cell_type": "code",
   "execution_count": 21,
   "id": "00d4bdc0",
   "metadata": {},
   "outputs": [
    {
     "name": "stdout",
     "output_type": "stream",
     "text": [
      "{'C': 0.5, 'max_iter': 100}\n",
      "The accuracy acheived by Logistic Regression is : 0.23206106870229007\n"
     ]
    }
   ],
   "source": [
    "# predict the model \n",
    "\n",
    "print(model_tuned.best_params_)\n",
    "\n",
    "y_pred_tuned = model_tuned.best_estimator_.predict(X_test_vec)\n",
    "print(f'The accuracy acheived by Logistic Regression is : {accuracy_score(test_labels,y_pred_tuned)}')"
   ]
  },
  {
   "cell_type": "code",
   "execution_count": 23,
   "id": "9af2671e",
   "metadata": {},
   "outputs": [
    {
     "name": "stderr",
     "output_type": "stream",
     "text": [
      "c:\\ProgramData\\anaconda3\\Lib\\site-packages\\sklearn\\linear_model\\_logistic.py:458: ConvergenceWarning: lbfgs failed to converge (status=1):\n",
      "STOP: TOTAL NO. of ITERATIONS REACHED LIMIT.\n",
      "\n",
      "Increase the number of iterations (max_iter) or scale the data as shown in:\n",
      "    https://scikit-learn.org/stable/modules/preprocessing.html\n",
      "Please also refer to the documentation for alternative solver options:\n",
      "    https://scikit-learn.org/stable/modules/linear_model.html#logistic-regression\n",
      "  n_iter_i = _check_optimize_result(\n",
      "c:\\ProgramData\\anaconda3\\Lib\\site-packages\\sklearn\\linear_model\\_logistic.py:458: ConvergenceWarning: lbfgs failed to converge (status=1):\n",
      "STOP: TOTAL NO. of ITERATIONS REACHED LIMIT.\n",
      "\n",
      "Increase the number of iterations (max_iter) or scale the data as shown in:\n",
      "    https://scikit-learn.org/stable/modules/preprocessing.html\n",
      "Please also refer to the documentation for alternative solver options:\n",
      "    https://scikit-learn.org/stable/modules/linear_model.html#logistic-regression\n",
      "  n_iter_i = _check_optimize_result(\n",
      "c:\\ProgramData\\anaconda3\\Lib\\site-packages\\sklearn\\linear_model\\_logistic.py:458: ConvergenceWarning: lbfgs failed to converge (status=1):\n",
      "STOP: TOTAL NO. of ITERATIONS REACHED LIMIT.\n",
      "\n",
      "Increase the number of iterations (max_iter) or scale the data as shown in:\n",
      "    https://scikit-learn.org/stable/modules/preprocessing.html\n",
      "Please also refer to the documentation for alternative solver options:\n",
      "    https://scikit-learn.org/stable/modules/linear_model.html#logistic-regression\n",
      "  n_iter_i = _check_optimize_result(\n",
      "c:\\ProgramData\\anaconda3\\Lib\\site-packages\\sklearn\\linear_model\\_logistic.py:458: ConvergenceWarning: lbfgs failed to converge (status=1):\n",
      "STOP: TOTAL NO. of ITERATIONS REACHED LIMIT.\n",
      "\n",
      "Increase the number of iterations (max_iter) or scale the data as shown in:\n",
      "    https://scikit-learn.org/stable/modules/preprocessing.html\n",
      "Please also refer to the documentation for alternative solver options:\n",
      "    https://scikit-learn.org/stable/modules/linear_model.html#logistic-regression\n",
      "  n_iter_i = _check_optimize_result(\n",
      "c:\\ProgramData\\anaconda3\\Lib\\site-packages\\sklearn\\linear_model\\_logistic.py:458: ConvergenceWarning: lbfgs failed to converge (status=1):\n",
      "STOP: TOTAL NO. of ITERATIONS REACHED LIMIT.\n",
      "\n",
      "Increase the number of iterations (max_iter) or scale the data as shown in:\n",
      "    https://scikit-learn.org/stable/modules/preprocessing.html\n",
      "Please also refer to the documentation for alternative solver options:\n",
      "    https://scikit-learn.org/stable/modules/linear_model.html#logistic-regression\n",
      "  n_iter_i = _check_optimize_result(\n",
      "c:\\ProgramData\\anaconda3\\Lib\\site-packages\\sklearn\\model_selection\\_validation.py:378: FitFailedWarning: \n",
      "10 fits failed out of a total of 20.\n",
      "The score on these train-test partitions for these parameters will be set to nan.\n",
      "If these failures are not expected, you can try to debug them by setting error_score='raise'.\n",
      "\n",
      "Below are more details about the failures:\n",
      "--------------------------------------------------------------------------------\n",
      "10 fits failed with the following error:\n",
      "Traceback (most recent call last):\n",
      "  File \"c:\\ProgramData\\anaconda3\\Lib\\site-packages\\sklearn\\model_selection\\_validation.py\", line 686, in _fit_and_score\n",
      "    estimator.fit(X_train, y_train, **fit_params)\n",
      "  File \"c:\\ProgramData\\anaconda3\\Lib\\site-packages\\sklearn\\linear_model\\_logistic.py\", line 1160, in fit\n",
      "    self._validate_params()\n",
      "  File \"c:\\ProgramData\\anaconda3\\Lib\\site-packages\\sklearn\\base.py\", line 600, in _validate_params\n",
      "    validate_parameter_constraints(\n",
      "  File \"c:\\ProgramData\\anaconda3\\Lib\\site-packages\\sklearn\\utils\\_param_validation.py\", line 97, in validate_parameter_constraints\n",
      "    raise InvalidParameterError(\n",
      "sklearn.utils._param_validation.InvalidParameterError: The 'C' parameter of LogisticRegression must be a float in the range (0, inf]. Got 0 instead.\n",
      "\n",
      "  warnings.warn(some_fits_failed_message, FitFailedWarning)\n",
      "c:\\ProgramData\\anaconda3\\Lib\\site-packages\\sklearn\\model_selection\\_search.py:952: UserWarning: One or more of the test scores are non-finite: [       nan        nan 0.25425521 0.25448145]\n",
      "  warnings.warn(\n"
     ]
    },
    {
     "name": "stdout",
     "output_type": "stream",
     "text": [
      "{'C': 0.5, 'max_iter': 350}\n"
     ]
    }
   ],
   "source": [
    "model = LogisticRegression()\n",
    "pramaters = {'max_iter':[100,350],'C':[0,0.5]}\n",
    "model_tuned = GridSearchCV(estimator=model,param_grid=pramaters,cv=5)\n",
    "\n",
    "model_tuned.fit(X_train_tfidf,labels_reduced)\n",
    "\n",
    "print(model_tuned.best_params_)\n",
    "\n"
   ]
  },
  {
   "cell_type": "code",
   "execution_count": 24,
   "id": "84d89bbc",
   "metadata": {},
   "outputs": [
    {
     "name": "stdout",
     "output_type": "stream",
     "text": [
      "The accuracy acheived by Logistic Regression is : 0.2532654792196777\n"
     ]
    }
   ],
   "source": [
    "# predict the model \n",
    "\n",
    "y_pred_tuned_tfidf = model_tuned.best_estimator_.predict(X_test_tfidf)\n",
    "print(f'The accuracy acheived by Logistic Regression is : {accuracy_score(test_labels,y_pred_tuned_tfidf)}')"
   ]
  },
  {
   "cell_type": "markdown",
   "id": "0ed387bc",
   "metadata": {},
   "source": [
    "## 3 - Dense Representations from Topic Modeling\n",
    "\n",
    "Now, the goal is to re-use the bag-of-words representations we obtained earlier - but reduce their dimension through a **topic model**. Note that this allows to obtain reduced **document representations**, which we can again use directly to perform classification.\n",
    "- Do this with two models: ```TruncatedSVD``` and ```LatentDirichletAllocation```\n",
    "- Pick $300$ as the dimensionality of the latent representation (*i.e*, the number of topics)\n",
    "\n",
    "<div class='alert alert-block alert-info'>\n",
    "            Code:</div>"
   ]
  },
  {
   "cell_type": "code",
   "execution_count": 17,
   "id": "f4204cc9",
   "metadata": {},
   "outputs": [],
   "source": [
    "\n",
    "from sklearn.decomposition import TruncatedSVD,LatentDirichletAllocation\n",
    "\n",
    "svd = TruncatedSVD(n_components=300, random_state=42)\n",
    "X_train_svd = svd.fit_transform(X_train_vec)\n",
    "X_test_svd = svd.transform(X_test_vec)\n"
   ]
  },
  {
   "cell_type": "code",
   "execution_count": 18,
   "id": "d9a4eafa",
   "metadata": {},
   "outputs": [],
   "source": [
    "lda = LatentDirichletAllocation(n_components=300, random_state=42, learning_method='batch')\n",
    "X_train_lda = lda.fit_transform(X_train_vec)\n",
    "X_test_lda = lda.transform(X_test_vec)\n",
    "\n"
   ]
  },
  {
   "cell_type": "code",
   "execution_count": 19,
   "id": "90b05616",
   "metadata": {},
   "outputs": [
    {
     "name": "stdout",
     "output_type": "stream",
     "text": [
      "Accuracy with SVD: 0.24461407972858354\n",
      "Accuracy with LDA: 0.24139100932994062\n"
     ]
    }
   ],
   "source": [
    "model_svd = LogisticRegression(max_iter=300)\n",
    "model_svd.fit(X_train_svd, labels_reduced)\n",
    "y_pred_svd = model_svd.predict(X_test_svd)\n",
    "print(\"Accuracy with SVD:\", accuracy_score(test_labels, y_pred_svd))\n",
    "\n",
    "model_lda = LogisticRegression(max_iter=300)\n",
    "model_lda.fit(X_train_lda, labels_reduced)\n",
    "y_pred_lda = model_lda.predict(X_test_lda)\n",
    "print(\"Accuracy with LDA:\", accuracy_score(test_labels, y_pred_lda))"
   ]
  },
  {
   "cell_type": "markdown",
   "id": "4893c948",
   "metadata": {},
   "source": [
    "<div class='alert alert-block alert-warning'>\n",
    "            Question:</div>\n",
    "            \n",
    "We picked $300$ as number of topics. What would be the procedure to follow if we wanted to choose this hyperparameter through the data ? "
   ]
  },
  {
   "cell_type": "markdown",
   "id": "ef0abe7d",
   "metadata": {},
   "source": [
    "To Answer this question we need score or test that allows us to compute the model's perfomance based on our course the best way to know if the model is good or not is to compute the perplexity for several value of data_dimension then we select that one that minimize the perplexity\n",
    "\n",
    "see the following process:"
   ]
  },
  {
   "cell_type": "code",
   "execution_count": 102,
   "id": "446c105a",
   "metadata": {},
   "outputs": [
    {
     "name": "stdout",
     "output_type": "stream",
     "text": [
      "this is the best parameters : 20\n"
     ]
    }
   ],
   "source": [
    "perplexities = []\n",
    "\n",
    "\n",
    "# define the number of iteration \n",
    "\n",
    "dimension_parameters = range(20,300,100)\n",
    "\n",
    "for step in dimension_parameters:\n",
    "\n",
    "    lda = LatentDirichletAllocation(n_components=step,random_state=42,learning_method='batch')\n",
    "\n",
    "    # since the target is not the data only we need to know the value of perplexity so no need to store the data reduced \n",
    "    # lda can handle a sparce matrix \n",
    "    lda.fit(X_train_vec)\n",
    "    perplexities.append(lda.perplexity(X_train_vec))\n",
    "best_parameters = dimension_parameters[np.argmin(perplexities)]\n",
    "\n",
    "print(f'this is the best parameters : {best_parameters}')"
   ]
  },
  {
   "cell_type": "code",
   "execution_count": 104,
   "id": "7a96546d",
   "metadata": {},
   "outputs": [
    {
     "name": "stdout",
     "output_type": "stream",
     "text": [
      "[-5.64911669 -5.70907159 -7.07646246]\n"
     ]
    },
    {
     "data": {
      "text/plain": [
       "Text(0.5, 1.0, 'Perplexity vs. Number of Topics')"
      ]
     },
     "execution_count": 104,
     "metadata": {},
     "output_type": "execute_result"
    },
    {
     "data": {
      "image/png": "[encoded data removed]",
      "text/plain": [
       "<Figure size 1200x500 with 1 Axes>"
      ]
     },
     "metadata": {},
     "output_type": "display_data"
    }
   ],
   "source": [
    "# ploting the perplexity function of the dimention \n",
    "print(-np.log(perplexities))\n",
    "plt.figure(figsize=(12, 5))\n",
    "plt.plot(dimension_parameters, perplexities, label='Perplexity',color= 'red')\n",
    "plt.xlabel('Number of Topics')\n",
    "plt.ylabel('Perplexity')\n",
    "plt.title('Perplexity vs. Number of Topics')"
   ]
  },
  {
   "cell_type": "markdown",
   "id": "60f74d75",
   "metadata": {},
   "source": [
    "## 4 - Dense Count-based Representations\n",
    "\n",
    "The following function allows to obtain very large-dimensional vectors for **words**. We will now follow a different procedure:\n",
    "- Step 1: Obtain the co-occurence matrix, based on the vocabulary, giving you a vector by word in the vocabulary.\n",
    "- Step 2: Apply an SVD to obtain **word embeddings** of dimension $300$, for each word in the vocabulary.\n",
    "- Step 3: Obtain document representations by aggregating embeddings associated to each word in the document.\n",
    "- Step 4: Train a classifier on the (document representations, label) pairs. \n",
    "\n",
    "Some instructions:\n",
    "- In step 1, use the ```co_occurence_matrix``` function, which you need to complete.\n",
    "- In step 2, use ```TruncatedSVD```to obtain word representations of dimension $300$ from the output of the ```co_occurence_matrix``` function.\n",
    "- In step 3, use the ```sentence_representations``` function, which you will need to complete.\n",
    "- In step 4, put the pipeline together by obtaining document representations for both training and testing data. Careful: the word embeddings must come from the *training data co-occurence matrix* only.\n",
    "\n",
    "Lastly, add a **Step 1b**: transform the co-occurence matrix into the PPMI matrix, and compare the results."
   ]
  },
  {
   "cell_type": "code",
   "execution_count": 20,
   "id": "05ed10f4",
   "metadata": {},
   "outputs": [],
   "source": [
    "def co_occurence_matrix(corpus, vocabulary, window=0):\n",
    "    \"\"\"\n",
    "    Params:\n",
    "        corpus (list of list of strings): corpus of sentences\n",
    "        vocabulary (dictionary): words to use in the matrix\n",
    "        window (int): size of the context window; when 0, the context is the whole sentence\n",
    "    Returns:\n",
    "        matrix (array of size (len(vocabulary), len(vocabulary))): the co-oc matrix, using the same ordering as the vocabulary given in input    \n",
    "    \"\"\" \n",
    "    l = len(vocabulary)\n",
    "    M = np.zeros((l,l))\n",
    "    for sent in corpus:\n",
    "        # Get the sentence\n",
    "        #sent = \" \".join(sent)\n",
    "        # Obtain the indexes of the words in the sentence from the vocabulary\n",
    "        sent_idx = [vocabulary[word] for word in sent.split()]\n",
    "\n",
    "        # Avoid one-word sentences - can create issues in normalization:\n",
    "        if len(sent_idx) == 1:\n",
    "                sent_idx.append(len(vocabulary)-1) # This adds an Unkown word to the sentence\n",
    "        # Go through the indexes and add 1 / dist(i,j) to M[i,j] if words of index i and j appear in the same window\n",
    "        for i, idx in enumerate(sent_idx):\n",
    "            # If we consider a limited context:\n",
    "            if window > 0:\n",
    "                # Create a list containing the indexes that are on the left of the current index 'idx_i'\n",
    "                l_ctx_idx = [sent_idx[i - k] for k in range(1, window + 1) if i-k >= 0]\n",
    "            # If the context is the entire document:\n",
    "            else:\n",
    "                # The list containing the left context is easier to create\n",
    "                l_ctx_idx = [sent_idx[k] for k in range(i)]\n",
    "            # Go through the list and update M[i,j] and M[j,i]:        \n",
    "            for j, ctx_idx in enumerate(l_ctx_idx):\n",
    "                M[idx, ctx_idx] += 1\n",
    "                M[ctx_idx,idx] = M[idx,ctx_idx]\n",
    "    return M"
   ]
  },
  {
   "cell_type": "markdown",
   "id": "7be497b3",
   "metadata": {},
   "source": [
    "<div class='alert alert-block alert-info'>\n",
    "            Code:</div>"
   ]
  },
  {
   "cell_type": "code",
   "execution_count": 21,
   "id": "e843cc8b",
   "metadata": {},
   "outputs": [],
   "source": [
    "# Obtain the co-occurence matrix, transform it as needed, reduce its dimension\n",
    "\n",
    "def ppmi_matrix(M):\n",
    "    \"\"\"\n",
    "    Transform a co-occurrence matrix into a PPMI matrix.\n",
    "    \n",
    "    Params:\n",
    "        M (numpy.ndarray): The co-occurrence matrix\n",
    "    Returns:\n",
    "        PPMI (numpy.ndarray): The PPMI matrix\n",
    "    \"\"\"\n",
    "    total = np.sum(M)\n",
    "    row_sums = np.sum(M, axis=1)\n",
    "    col_sums = np.sum(M, axis=0)\n",
    "    expected = np.outer(row_sums, col_sums) / total\n",
    "    \n",
    "    epsilon = 1e-10 \n",
    "    pmi = np.where(expected > 0, np.log((M + epsilon) / (expected + epsilon)), 0)\n",
    "    ppmi = np.maximum(pmi, 0)\n",
    "    \n",
    "    return ppmi\n"
   ]
  },
  {
   "cell_type": "code",
   "execution_count": 22,
   "id": "58160c17",
   "metadata": {},
   "outputs": [],
   "source": [
    "def compute_svd(matrix, n_components=300):\n",
    "    svd = TruncatedSVD(n_components=n_components, random_state=42)\n",
    "    word_embeddings = svd.fit_transform(matrix)\n",
    "    return word_embeddings"
   ]
  },
  {
   "cell_type": "markdown",
   "id": "b312da12",
   "metadata": {},
   "source": [
    "<div class='alert alert-block alert-info'>\n",
    "            Code:</div>"
   ]
  },
  {
   "cell_type": "code",
   "execution_count": 94,
   "id": "e413841b",
   "metadata": {},
   "outputs": [],
   "source": [
    "def sentence_representations(texts, vocabulary, embeddings, np_func=np.mean):\n",
    "    \"\"\"\n",
    "    Represent the sentences as a combination of the vector of its words.\n",
    "    Parameters\n",
    "    ----------\n",
    "    texts : a list of sentences   \n",
    "    vocabulary : dict\n",
    "        From words to indexes of vector.\n",
    "    embeddings : Matrix containing word representations\n",
    "    np_func : function (default: np.sum)\n",
    "        A numpy matrix operation that can be applied columnwise, \n",
    "        like `np.mean`, `np.sum`, or `np.prod`. \n",
    "    Returns\n",
    "    -------\n",
    "    np.array, dimension `(len(texts), embeddings.shape[1])`            \n",
    "    \"\"\"\n",
    "    representations = []\n",
    "    for text in texts:\n",
    "        indexes = [vocabulary[word] for word in text.split()] # Indexes of words in the sentence obtained thanks to the vocabulary\n",
    "        sentrep = np_func(embeddings[indexes, :], axis = 0) # Embeddings of words in the sentence, aggregated thanks to the function\n",
    "        representations.append(sentrep)\n",
    "    representations = np.array(representations)    \n",
    "    return representations"
   ]
  },
  {
   "cell_type": "markdown",
   "id": "2462a0a2",
   "metadata": {},
   "source": [
    "<div class='alert alert-block alert-info'>\n",
    "            Code:</div>"
   ]
  },
  {
   "cell_type": "code",
   "execution_count": 24,
   "id": "a5256e11",
   "metadata": {},
   "outputs": [],
   "source": [
    "from sklearn.metrics import confusion_matrix, accuracy_score, precision_score, recall_score, f1_score, classification_report\n",
    "\n",
    "def train_classifier(X_train, y_train, X_test, y_test):\n",
    "    clf = LogisticRegression(max_iter=3000)\n",
    "    clf.fit(X_train, y_train)\n",
    "    y_pred = clf.predict(X_test)\n",
    "    return clf, y_pred, y_test  \n"
   ]
  },
  {
   "cell_type": "code",
   "execution_count": 25,
   "id": "7832550e",
   "metadata": {},
   "outputs": [],
   "source": [
    "co_occurrence_matrix_train = co_occurence_matrix(x_train, vocabulary)\n",
    "\n",
    "ppmi_matrix_train = ppmi_matrix(co_occurrence_matrix_train)\n",
    "\n",
    "word_embeddings = compute_svd(ppmi_matrix_train, n_components=300)\n",
    "\n",
    "X_train = sentence_representations(x_train, vocabulary, word_embeddings, np_func=np.mean)\n",
    "X_test = sentence_representations(x_test, vocabulary, word_embeddings, np_func=np.mean)\n",
    "\n",
    "classifier, y_pred, y_test = train_classifier(X_train, labels_reduced, X_test, test_labels)"
   ]
  },
  {
   "cell_type": "code",
   "execution_count": 26,
   "id": "46b43da3",
   "metadata": {},
   "outputs": [],
   "source": [
    "cm = confusion_matrix(y_test, y_pred)\n",
    "\n",
    "accuracy = accuracy_score(y_test, y_pred)\n",
    "precision = precision_score(y_test, y_pred, average='macro')\n",
    "recall = recall_score(y_test, y_pred, average='macro')\n",
    "f1 = f1_score(y_test, y_pred, average='macro')\n",
    "\n",
    "report = classification_report(y_test, y_pred)\n"
   ]
  },
  {
   "cell_type": "code",
   "execution_count": 27,
   "id": "42cf75fe",
   "metadata": {},
   "outputs": [
    {
     "data": {
      "image/png": "[encoded data removed]",
      "text/plain": [
       "<Figure size 1000x700 with 1 Axes>"
      ]
     },
     "metadata": {},
     "output_type": "display_data"
    }
   ],
   "source": [
    "plt.figure(figsize=(10, 7))\n",
    "sns.heatmap(cm, annot=True, fmt='g', cmap='Blues', cbar=False)  \n",
    "plt.xlabel('Predicted labels')\n",
    "plt.ylabel('True labels')\n",
    "plt.title('Confusion Matrix')\n",
    "plt.show()\n"
   ]
  },
  {
   "cell_type": "code",
   "execution_count": 28,
   "id": "313423c3",
   "metadata": {},
   "outputs": [
    {
     "name": "stdout",
     "output_type": "stream",
     "text": [
      "Classification Scores:\n",
      "Accuracy: 25.67%\n",
      "Precision: 0.23\n",
      "Recall: 0.19\n",
      "F1 Score: 0.20\n",
      "\n",
      "Detailed Classification Report:\n",
      "               precision    recall  f1-score   support\n",
      "\n",
      "           1       0.22      0.20      0.21       772\n",
      "          10       0.24      0.09      0.13       396\n",
      "          11       0.23      0.12      0.16       229\n",
      "          12       0.19      0.14      0.16       124\n",
      "          13       0.20      0.13      0.16       100\n",
      "          14       0.21      0.16      0.18       193\n",
      "          15       0.09      0.04      0.05       223\n",
      "          16       0.22      0.36      0.27       707\n",
      "           2       0.35      0.16      0.22        86\n",
      "           3       0.27      0.22      0.24       247\n",
      "           4       0.32      0.52      0.40      1176\n",
      "           5       0.15      0.10      0.12       311\n",
      "           6       0.19      0.11      0.14       288\n",
      "           7       0.23      0.15      0.18       494\n",
      "           8       0.20      0.16      0.18        92\n",
      "           9       0.32      0.28      0.30       457\n",
      "\n",
      "    accuracy                           0.26      5895\n",
      "   macro avg       0.23      0.19      0.20      5895\n",
      "weighted avg       0.24      0.26      0.24      5895\n",
      "\n"
     ]
    }
   ],
   "source": [
    "print(\"Classification Scores:\")\n",
    "print(\"Accuracy: {:.2f}%\".format(accuracy * 100))\n",
    "print(\"Precision: {:.2f}\".format(precision))\n",
    "print(\"Recall: {:.2f}\".format(recall))\n",
    "print(\"F1 Score: {:.2f}\".format(f1))\n",
    "print(\"\\nDetailed Classification Report:\\n\", report)\n"
   ]
  },
  {
   "cell_type": "markdown",
   "id": "7a9dbec5",
   "metadata": {},
   "source": [
    "## 5 - Dense Prediction-based Representations\n",
    "\n",
    "We will now use word embeddings from ```Word2Vec```: which we will train ourselves\n",
    "\n",
    "We will use the ```gensim``` library for its implementation of word2vec in python. Since we want to keep the same vocabulary as before: we'll first create the model, then re-use the vocabulary we generated above. "
   ]
  },
  {
   "cell_type": "code",
   "execution_count": 61,
   "id": "80339bee",
   "metadata": {},
   "outputs": [],
   "source": [
    "from gensim.models import Word2Vec\n",
    "from collections import Counter\n",
    "from nltk.tokenize import word_tokenize"
   ]
  },
  {
   "cell_type": "code",
   "execution_count": 81,
   "id": "0942a2e9",
   "metadata": {},
   "outputs": [
    {
     "name": "stdout",
     "output_type": "stream",
     "text": [
      "Word counts: {'responsable': 907, 'chantiers': 5, 'bûcheronnage': 1, 'manuel': 1, 'débardage': 2, 'forêt': 35, 'option': 1376, 'chef': 533, '’': 4371, 'entreprise': 164, 'ohq': 1, 'travaux': 279, 'forestiers': 7, 'spécialité': 9608, 'arboriste-grimpeur': 1, 'arboriste': 1, 'élagueur': 1, 'agrosciences': 29, 'environnement': 1094, 'territoires': 251, 'paysage': 117, 'fiche': 937, 'nationale': 1705, 'technicien': 411, 'rivière': 4, 'gemapi': 3, 'licence': 529, 'professionnelle': 1328, 'mention': 7310, 'aménagement': 402, 'gestion': 2948, 'écologiques': 5, 'paysages': 11, 'urbains': 45, 'production': 900, 'végétales': 56, 'protection': 303, 'culture': 336, 'chargé': 295, 'maintenance': 469, 'technique': 742, 'polyvalent': 45, 'aménagements': 13, 'paysagers': 14, 'cqp': 335, 'ouvrier': 20, 'construction': 315, \"d'ouvrages\": 4, 'sol': 42, 'sportifs': 40, 'engazonnés': 1, 'jardins': 9, 'espaces': 96, 'verts': 5, 'concepteur': 155, 'créateur': 12, 'jardin': 3, \"d'équipe\": 55, \"d'entretien\": 12, \"d'aménagement\": 2, 'nature': 14, 'jardinier': 2, 'botaniste': 1, 'jardinier-botaniste': 1, 'supérieur': 396, 'terrain': 2, 'sport': 308, 'entretien': 13, 'naturels': 51, 'ruraux': 29, 'infographie': 9, 'paysagère': 4, 'meilleurs': 80, 'ouvriers': 80, 'france': 125, 'diplôme': 669, \"d'etat\": 75, 'groupe': 116, 'métiers': 1340, \"l'art\": 62, 'fleurs': 2, 'art': 1309, 'floral': 1, 'paysagiste': 7, 'mécanisés': 1, 'génie': 1532, 'écologique': 5, 'arrosage': 1, 'intégré': 22, 'spécialisé': 96, 'décors': 3, 'temporaires': 1, \"d'intérieur\": 9, 'certificat': 24, 'capacité': 3, 'agricole': 37, 'rurale': 5, 'cctar': 2, 'patrimoine': 264, 'paysager': 7, 'végétal': 34, 'milieu': 100, 'urbanisé': 1, 'science': 6619, 'humaines': 1161, 'sociales': 1130, 'conception': 413, 'dplg': 2, 'qualifié': 5, 'méditerranéens': 5, 'contrôleur': 22, 'maritimes': 28, 'géographie': 200, 'faune': 3, 'espace': 36, 'naturel': 12, 'eaux': 74, 'continentales': 3, 'master': 1893, 'droit': 2256, 'economie': 888, 'gouvernance': 30, 'territoriale': 29, 'territoire': 69, 'biologie': 594, 'santé': 3676, 'valorisation': 241, 'agri-environnementale': 4, 'montagne': 30, 'technologie': 645, 'biodiversité': 59, 'écologie': 69, 'évolution': 28, 'connaissance': 22, 'mise': 69, 'valeur': 13, 'aquatiques': 28, 'continentaux': 8, 'cogevaleau': 3, 'histoire': 446, 'sociologie': 93, 'patrimoines': 63, 'finalité': 1055, 'dynamiques': 29, 'hôtellerie': 55, 'tourisme': 206, 'écologie-environnement': 11, 'habitat': 18, 'bassins': 6, 'versant': 6, 'ghbv': 2, 'gepen': 1, 'domaine': 2402, 'lettres': 893, 'langues': 1163, 'société': 78, 'économique': 117, 'culturel': 96, 'valpec': 7, 'parcours': 158, 'développement': 1126, 'territorial': 32, 'parcs': 3, \"l'environnement\": 444, 'diagnostic': 43, 'ressources': 369, 'eau': 139, 'terre': 220, 'mer': 73, 'littoral': 123, 'opérateur': 81, 'prévention': 126, 'péril': 3, 'animalier': 5, 'projet': 514, 'ingénierie': 1011, \"l'éducation\": 111, 'éco-interprète': 12, 'muséologie': 9, 'sociétés': 74, \"l'eau\": 43, 'recherche': 900, 'climat': 15, 'risques': 336, 'technology': 2962, 'écosystème': 4, 'durable': 314, 'entreprises': 387, 'expertise': 83, 'egel': 9, 'urbanisme': 108, 'consultant': 41, 'rural': 73, 'local': 39, 'études': 185, 'oeuvre': 7, 'projets': 448, 'qualification': 6, 'sauvage': 1, 'appliquée': 147, 'ecosystèmes': 14, 'exploités': 4, 'environnementale': 49, 'urbain': 21, 'géosciences': 59, 'lp': 8, 'adret': 3, 'agronomie': 134, 'entreprenariat': 3, 'tropical': 3, 'naturaliste': 3, 'forestier': 2, 'vie': 104, 'agriculture': 82, 'marin': 11, 'sante': 94, 'corridor': 4, 'fluviaux': 4, 'imacof': 4, 'forestière': 3, 'environnementales': 20, 'qualité': 596, 'traitements': 15, 'ecologie': 55, 'evolution': 21, 'éthologie': 7, '«': 664, '»': 637, 'systématique': 4, 'paléontologie': 13, 'svt': 2, 'assistance': 27, 'maîtrise': 97, 'ouvrage': 12, 'produits': 344, 'montagnards': 12, 'activités': 441, 'juridiques': 51, '``': 549, \"''\": 587, 'intégrée': 40, 'molécules': 25, 'population': 29, 'bois': 115, 'récolte': 1, 'arbres': 7, 'ornement': 6, 'animales': 29, 'durables': 24, 'organisation': 552, 'agricoles': 47, 'agroalimentaires': 64, 'hydraulique': 19, 'alimentation': 193, 'conseil': 105, 'exploitation': 69, 'pépinière': 3, 'viticole': 3, 'pédicure': 3, 'bovins': 3, 'gestion-animation': 5, 'pastoraux': 5, 'conducteur': 55, 'gestionnaire': 91, 'chantier': 30, 'r': 19, 'p': 19, \"d'études\": 101, 'économie': 744, 'secteur': 45, 'territoriales': 50, 'professionnel': 336, 'environnement-terre-evolution-climats': 6, 'organismes': 31, 'bop': 8, 'raisonnée': 10, 'certification': 13, 'urbaine': 6, 'viticulture': 9, 'animation': 69, 'médiation': 90, 'industrie': 233, 'agro-alimentaire': 133, 'éco-marketing': 3, 'biologiques': 65, 'régions': 4, 'chaudes': 3, 'darc': 3, 'œuvre': 23, 'agro-environnementale': 7, 'conduite': 102, 'équipements': 70, 'gdea': 5, 'specialité': 5, 'diplômé': 2942, \"l'institut\": 575, 'industry': 282, 'vivant': 72, 'agroparistech': 10, 'convention': 67, 'conservatoire': 286, 'national': 799, 'partenariat': 356, \"l'itia\": 5, 'animale': 16, 'filières': 11, 'ovines': 4, 'systèmes': 1644, 'horticole': 4, 'animateur': 156, 'durabilité': 29, 'nouvelles': 70, 'commerce': 501, 'commercialisation': 109, 'spécialisée': 7, 'produit': 35, 'équin': 6, 'ingénieur': 3068, 'ecole': 537, 'supérieure': 955, 'agronomique': 32, 'toulouse': 192, 'institut': 423, 'polytechnique': 942, 'ensat': 5, 'bioscience': 33, 'écoproduction': 12, 'biovalorisation': 12, 'technico-commercial': 36, 'nutrition': 122, 't.c.n.a': 4, 'agronomiques': 36, 'horticoles': 15, 'agrocampus': 22, 'ouest': 15, 'horticulture': 14, 'technicien-conseil': 7, 'avicole': 3, 'porcine': 6, 'aquaculture': 13, 'école': 604, 'montpellier': 181, 'supagro': 7, 'enseignement': 167, 'naturelles': 86, 'foret': 2, \"l'école\": 258, 'universitaire': 463, \"d'université\": 13, 'côte': 94, \"d'azur\": 33, 'vetagro': 2, 'sup': 3, \"d'ingénieur\": 79, \"l'ecole\": 680, \"d'ingénieurs\": 187, 'purpan': 8, 'plantes': 11, 'aromatiques': 2, 'méditerranéennes': 2, \"l'istom\": 2, 'littoraux': 24, 'mers': 6, 'etablissement': 16, 'dijon': 21, 'enesad': 2, 'université': 379, 'tour': 57, 'expert': 474, 'e': 252, 'biotechnology': 221, 'domaines': 20, \"l'urbanisme\": 9, 'magma': 4, 'volcans': 4, 'forêts': 12, 'ingenierie': 34, 'ecologique': 13, 'ingeco': 12, 'management': 1803, 'economique': 45, 'agroéquipements': 4, 'sciences-technologies-santé': 62, 'écosystèmes': 53, 'agrosystèmes': 22, 'eadd': 14, 'spécialités': 55, 'agroécologie': 4, 'hydro3': 13, 'hydrogéologie': 16, 'hydrobiogéochimie': 13, 'hydropédologie': 13, 'ruralités': 10, 'dynamique': 34, 'hydrosystèmes': 4, 'risque': 48, 'environnemental': 11, 'etude': 143, 'rurales': 11, 'chimie': 664, 'contrôle': 237, 'physiologie': 84, 'physiopathologie': 21, 'aquariologie': 7, 'systemes': 17, 'mediterraneens-': 3, 'ingesame': 3, \"d'information\": 243, 'modélisation': 100, 'appliqués': 18, 'bioinformatique': 18, 'outils': 12, 'bioprotection': 6, 'non-alimentaire': 6, 'agrobio': 5, 'pluritechniques': 60, 'univers': 14, 'stue': 8, 'planètes': 88, 'paysagères': 2, 'dynea': 4, 'cartographie': 10, 'fortes': 3, 'contraintes': 12, 'orientation': 13, 'coordination': 6, 'interprofessionnelle': 3, 'zone': 19, 'côtières': 4, 'microbiologie': 80, 'aliment': 135, 'microbiennes': 10, \"l'enitab\": 2, 'depuis': 2, '2012': 2, 'bordeaux-': 2, 'aquitaine': 17, 'laitière': 9, 'spécialisées': 18, 'continentale': 3, 'genétique': 2, \"l'elevage\": 5, 'gedel': 2, 'françois-rabelais': 2, 'engref': 5, \"l'université\": 919, 'ii': 61, 'polytech': 215, 'alimentaires': 72, \"d'agriculture\": 12, 'yncrea': 6, 'hauts': 6, 'biologique': 136, \"l'horticulture\": 2, \"d'horticulture\": 2, 'enihp': 4, 'cynégétique': 2, 'service': 298, 'politiques': 111, 'publiques': 56, 'associés': 23, 'm': 386, 'appliquées': 768, 'lyon': 115, 'énergétique': 204, \"l'alimentation\": 38, \"l'agriculture\": 13, 'végétale': 36, 'océan': 13, 'atmosphère': 9, 'ingenieur': 8, 'diplome': 7, 'istom': 2, 'approvisionnement': 3, \"l'esitpa\": 2, 'anthropisé': 4, 'traitement': 139, 'ingénieurs': 212, 'beauvais': 11, 'isab': 2, '2': 48, 'ingénieur-e': 3, 'centre': 124, 'international': 488, \"d'etudes\": 13, 'supérieures': 76, 'vocation': 11, 'générale': 27, 'affaire': 323, 'internationale': 298, 'transfrontalières': 18, 'mutation': 8, 'cultivées': 4, 'éco-conception': 8, 'politique': 140, 'public': 393, 'acteurs': 5, 'modelisation': 4, 'environnementaux': 28, 'integree': 5, 'ecosystemes-': 5, 'gile': 5, 'agro-ressources': 16, \"'valorisation\": 2, 'agro': 2, 'environmental': 2, 'and': 52, 'natural': 2, 'resource': 2, 'economics': 13, 'erna': 2, 'ere': 5, 'forestières': 8, 'transformation': 159, 'dérivés': 13, 'cadre': 39, 'opérationnel': 121, \"d'aquaculture\": 3, 'associées': 34, 'desta': 4, 'agroéquipement': 5, 'conservation': 22, 'paris-grignon': 4, 'itia': 2, 'agronome': 2, 'ina': 2, 'p-g': 2, 'sts': 55, 'analysis': 40, \"d'inventaires\": 2, \"l'entreprise\": 67, 'dimension': 2, 'européenne': 32, 'industrielle': 881, 'eco-conception': 13, 'énergie-environnement': 3, \"polytech'tours\": 3, 'lille': 266, 'hei-isa-isen': 10, 'solidarité': 20, 'sciences-': 33, '-santé': 33, 'anger': 11, 'esa': 2, 'laboratoire': 35, 'a': 42, 'techniciens': 4, 'esitpa': 2, 'analyse': 158, \"l'action\": 7, 'stratégique': 91, 'manager': 1031, 'viticoles': 1, 'agroalimentaire': 183, 'terroir': 11, 'innovation': 229, 'unilasalle': 31, 'agro-industries': 2, 'conseiller': 61, \"d'élevages\": 1, 'avicoles': 1, 'monde': 24, 'vigne': 4, 'vin': 4, 'socio-spatial': 2, 'enjeux': 16, 'prospective': 3, 'bioressources': 4, 'communication': 1326, 'médias': 84, 'culturelles': 81, 'pratiques': 66, 'agent': 201, 'relation': 99, 'arc': 2, 'biotechnologie': 65, 'génomique': 39, 'biothérapie': 3, 'fonctionnelle': 5, 'comportementale': 15, 'évolutive': 4, 'sge': 7, 'sage': 3, 'evolution-terre-environnement-climats': 8, 'biocontaminants': 2, 'liés': 9, 'humaine': 31, '–': 336, 'économiques': 40, \"l'ingénierie\": 21, \"l'aménagement\": 13, 'équipement': 7, 'agro-industrielle': 1, 'non': 18, 'alimentaire': 36, 'alternative': 1, 'partager': 1, 'arbre': 3, 'contaminant': 2, 'nancy': 30, 'i': 68, 'enstib': 3, 'enshap': 1, 'ecophysiologie': 3, 'bioproduction': 7, 'esap': 2, 'écotoxicologie': 20, 'restauration': 57, 'expérimentation': 2, 'expérimentateur': 1, \"l'agronomie\": 3, 'forest': 3, 'their': 3, 'environment': 3, 'analytiques': 7, 'fonctionnement': 10, 'psychologie': 164, 'sociale': 231, 'sud': 18, 'rennes': 151, 'ensar': 7, 'territoriaux': 8, 'stratégie': 204, 'négociation': 18, \"l'international\": 43, 'paris': 211, 'procédés': 280, 'lasalle': 14, 'rhône-alpes': 5, 'isaralyon': 4, 'titre': 125, 'conférant': 29, 'grade': 46, '-master': 4, 'degree-': 4, 'amélioration': 25, 'génétique': 61, 'géomatiques': 1, 'intégrative': 21, 'aide': 14, 'décision': 63, 'envionnement': 2, 'isara-lyon': 1, 'viti-viniculture': 1, 'evolutive': 9, 'pathologie': 4, 'sécurité': 792, 'sanitaire': 45, 'géoenvironnement': 2, 'péri-urbanisation': 1, 'erpur': 1, 'suivi': 6, 'chimiques': 143, 'pharmaceutiques': 112, 'élevage': 2, 'création': 117, 'variétale': 1, 'urbaines': 14, 'biotechnologiques': 11, 'anabiotec': 1, 'chimique': 53, 'bioprocédés': 2, 'marine': 36, 'bpbm': 2, 'isa': 1, 'ensia': 1, 'massy': 1, 'global': 17, 'animaux': 10, 'sgetpa': 1, 'stpe': 21, 'gei': 4, 'bordeaux': 196, 'lorraine': 100, 'web': 139, 'marketing': 709, 'graphiste': 10, 'multimédia': 210, 'webmarketing': 7, 'designer': 55, 'graphique': 52, 'digitale': 71, 'humanités': 34, 'créatives': 7, 'graphisme': 3, 'publique': 118, 'assistant': 172, 'pme/tpe': 4, 'administration': 301, 'commerciales': 46, 'mode': 120, 'numérique': 284, 'image': 131, 'journalisme': 34, 'cross-media': 3, 'information-communication': 42, 'information': 527, 'action': 53, 'interculturel': 6, 'événementiel': 29, 'marque': 21, 'client': 56, 'e-commerce': 43, 'intérieure': 35, 'événementielle': 8, \"d'institut\": 2, 'humanitaire': 13, 'business': 52, 'arts-lettres-langues-sciences': 2, 'édition': 51, 'editeur': 2, 'visé': 52, 'bac+5': 6, \"l'icd\": 7, 'étrangères': 253, 'littératures': 196, 'civilisation': 257, 'etrangères': 104, 'régionales': 85, 'allemand': 55, 'anglais': 43, 'espagnol': 53, 'italien': 34, 'europe': 35, 'culturelle': 43, 'médiateur': 11, 'crise': 10, 'modernes': 31, 'classiques': 28, 'intelligence': 89, 'directeur': 121, 'artistique': 69, 'plurimédia': 22, 'trice': 97, 'internet': 69, 'site': 39, 'commercial': 251, 'promotion': 14, 'biens': 84, 'événements': 4, 'culturels': 54, 'langage': 62, 'deust': 4, 'interactifs': 17, 'communicant': 15, 't-mic': 3, 'direct': 13, 'vente': 134, 'distance': 10, 'multicanaux': 2, 'médiations': 25, \"l'œuvre\": 3, \"l'édition\": 14, 'diffusion': 28, 'numériques': 182, 'loisirs': 100, 'evènements': 3, 'dj': 7, 'producteur': 9, 'musiques': 9, 'actuelles': 2, 'ère': 11, 'personnelle': 2, 'ethnologie': 14, 'contemporaines': 18, 'institution': 62, 'ventes': 10, 'attaché': 32, 'internationales-traduction': 2, 'informatique': 1487, 'intégration': 51, 'cim': 2, 'journaliste': 60, 'européen': 66, 'franco-allemand': 14, 'européennes': 63, 'juridique': 22, 'concepteur-réalisateur': 2, '3d': 23, 'institutionnelle': 4, 'régulations': 11, 'changement': 17, 'pouvoir': 3, 'lea': 36, 'philosophie': 97, 'llce': 20, 'portugais': 14, 'traduction': 33, 'multilingue': 6, 'rédacteur': 19, 'apc': 4, 'réseaux': 801, 'télécommunication': 58, 'webdesigner': 12, 'bibliothèques': 26, 'livre': 46, \"l'enseignement\": 82, 'anglais-allemand': 10, 'atc': 16, 'référenceur': 3, 'rrw': 3, 'biochimie': 27, 'spectacle': 52, 'stratégies': 77, 'distribution': 75, 'musique': 44, 'activité': 31, 'ntic': 3, 'interne/externe': 2, 'ligne': 39, 'réalisation': 64, 'rédaction': 39, 'petite': 24, 'moyennes': 17, 'informatiques': 413, 'logiciels': 229, 'disposition': 2, 'documentaires': 37, 'littérature': 35, 'llcer': 4, 'arabe': 9, 'breton': 3, 'chinois': 15, 'russe': 22, 'shs': 25, 'technologique': 40, 'tourismes': 2, 'métier': 33, 'euromedias': 2, 'globale': 35, 'mrc': 10, 'recherches': 30, 'document': 36, \"l'information\": 161, '“': 195, '”': 143, 'méditerranée': 27, 'identités': 11, 'développements': 4, 'interculturels': 10, 'documentation': 42, 'mondes': 44, 'anglophones': 22, 'llc': 14, 'comparées': 18, 'ccc': 8, 'lobbying': 4, 'communication-marketing': 3, 'mediation': 4, 'interculturelle': 16, 'identites': 4, 'mobilites': 4, 'conflits': 5, 'cancer': 3, 'musées': 8, 'print': 3, 'digital': 124, 'analyste': 44, 'diplomatique': 4, 'webmaster': 12, \"l'internet\": 10, 'design': 91, 'visuel': 21, 'bac': 6, '+5': 1, 'programme': 166, 'grande': 121, 'publicité': 16, 'evènementiel': 3, 'cognitives': 15, 'maître': 9, \"d'œuvre\": 1, 'maquettiste': 5, 'infographiste': 12, 'gestion-': 9, 'économiques-': 1, 'européens': 3, 'artistiques': 34, 'b': 46, 'imprimés': 1, \"l'hôtellerie\": 16, 'fe': 20, 'e-business': 18, 'médicales': 7, 'argumentation': 2, 'influence': 2, 'digitales': 15, 'réalisateur': 35, 'stratégie': 3, 'visuelle': 23, 'organisateur': 9, 'mariages': 2, \"d'événements\": 7, 'évènementiel': 4, 'documentaliste': 7, 'multimédias': 2, 'l3': 4, 'sectoriel': 13, 'on-line': 1, 'off-line': 1, 'e-marketing': 2, 'interculturelles': 33, '3': 36, 'franco-italiennes': 7, 'franco-espagnoles': 6, 'intégrateur': 26, 'scénarisation': 1, 'contenus': 9, 'formation': 218, 'union': 4, \"d'entreprise\": 105, 'organisationnelle': 7, 'administrateur/producteur': 1, 'performance': 181, 'haut': 13, 'niveau': 8, 'direction': 34, 'établissements': 37, 'managériale': 7, 'concurrence': 4, 'régulation': 4, 'recherche/professionnelle': 11, 'commerciale': 71, 'association': 10, 'collectivités': 49, 'évènementiels': 3, 'sémiotique': 8, 'styliste': 5, 'modéliste': 5, 'e-activités': 5, '‘': 15, 'education': 56, 'créatrices': 1, 'gescop': 1, 'textes': 16, 'anglais-espagnol': 4, 'langue': 61, 'étrangère/': 2, 'seconde': 12, 'contemporains': 10, 'française': 17, 'poétiques': 4, 'associatif': 6, 'etrangeres': 5, 'appliquees': 8, 'comédia': 1, 'structure': 120, 'base': 63, 'données': 135, 'environnements': 19, 'miden': 5, 'anglais-arabe': 3, 'meef': 46, 'second': 37, 'degré': 191, 'support': 17, 'développeur': 137, 'internationaux': 45, 'multilingues': 2, 'spécialisation': 7, 'musicale': 1, 'physique': 740, 'ingénieries': 19, 'démarche': 3, 'scientifique': 57, 'didactique': 45, 'lexique': 3, 'texte': 7, 'discours': 9, 'audiovisuel': 53, 'magazine': 4, 'télévisés': 4, 'cw': 4, 'scène': 6, 'écran': 1, 'infographiste-designer': 4, 'littéraire': 15, 'sp': 20, 'jeunesse': 137, 'organisationnelles': 2, 'cosi': 2, 'archéologie': 84, 'plc': 5, \"d'histoire\": 5, 'dpaci': 1, 'dispositifs': 9, 'socio-techniques': 1, 'veille': 6, 'germanophones': 11, 'franco-allemandes': 7, 'coopération': 30, 'lc': 1, 'italiennes': 6, 'bi-national': 1, 'franco-italien': 1, 'hispaniques': 9, 'hispano-américaines': 3, 'journalistiques': 4, 'théologie': 19, 'anthropologie': 43, 'philosophique': 9, 'imaginaires': 3, 'genèses': 3, 'littéraires': 6, 'igl': 3, 'pratique': 19, 'dauphine': 1, 'infocom': 2, 'grand': 22, 'dge': 14, 'data': 45, 'mariage': 1, 'clientèle': 10, 'luxe': 34, 'éditeur': 4, 'multisupport': 4, 'point': 2, \"l'image\": 40, 'hypermédia': 2, 'biologie-gestion': 5, 'expérience': 13, 'achat': 14, 'po': 38, 'concertation': 4, 'transition': 12, 'choix': 10, 'entre': 7, 'dirigeant': 53, 'théâtre': 14, 'presse': 4, 'radio': 7, 'anglais-hindi': 1, 'exactes': 9, 'comparaisons': 2, 'francophones': 2, 'godi': 2, \"l'accompagnement\": 7, 'assistanat': 4, 'entrainement': 13, 'neuroscience': 25, 'linguistique': 42, 'textuelle': 1, 'juriste': 61, 'interculturalité': 11, 'droit-economie-gestion': 70, 'marketing-stratégie': 1, 'éducation': 124, \"d'opérations\": 9, 'gestion/finances': 1, 'marketing/commerce': 1, 'développement/humanitaire': 1, 'situation': 19, 'handicap': 26, 'inclusive': 1, \"l'étranger\": 1, 'webmestre': 4, 'connaissances': 33, 'manifestation': 4, 'muséographe': 1, 'louvre': 5, 'électronique': 474, 'écriture': 7, 'privée': 50, 'écrivain': 2, 'dénomination': 4, 'intervention': 122, 'théâtres': 7, 'antiquité': 16, 'critique': 4, 'représentations': 8, 'amériques': 3, 'collaborateur': 13, 'occitan': 5, 'médiatiques': 1, 'sociolinguistique': 1, 'éditorial': 8, 'mcci': 2, \"l'administration\": 10, 'anglais-japonais': 2, 'classique': 2, 'modernité': 2, 'deg': 2, 'multi': 4, 'média': 7, 'content': 2, 'ecocitoyenne': 5, 'evénementiel': 1, 'mae': 12, '–espagnol': 1, 'allemand/anglais': 1, 'russe/anglais': 1, 'russe/allemand': 1, 'corpsem': 2, 'nouveaux': 11, 'actuels': 1, 'pay': 29, 'émergents': 4, 'philologie': 3, 'langages': 7, 'linguistiques': 6, 'nationales': 7, 'transferts': 4, 'irt': 1, 'mgo': 3, 'éditoriale': 1, 'solidaire': 43, 'inba': 3, 'coordinateur': 45, 'sociétal': 3, 'globalisation': 3, \"d'affaires\": 107, 'linguiste': 7, \"d'écoute\": 2, 'community': 4, 'entrepreneuriat': 47, 'anglais-italien': 5, 'crisis': 5, \"l'industrie\": 162, 'isit': 6, 'etat': 27, '-management': 1, 'organisationnel': 19, 'grenoble': 115, '360°': 2, 'etablissements': 2, 'intéractive': 2, 'privé': 129, 'interprétation': 14, \"l'événementiel\": 3, 'editoriale': 7, 'com': 1, 'negociant': 2, \"d'art\": 17, 'type': 6, 'attractivité': 1, 'nouveau': 1, \"l'objet\": 7, 'bâti': 17, 'représentation': 7, 'archivage': 7, 'philosophie-': 1, 'épistémologie': 1, 'analytique': 77, 'pro': 7, 'géographiques': 17, 'touristiques': 28, 'hôteliers': 12, 'gath': 5, \"d'administration\": 7, 'mcc': 2, 'expression': 9, 'écrit-matériel-immatériel': 8, 'écrit': 1, 'spécialiste-conseil': 3, 'patrimoniales': 14, 'interactive': 6, 'médiatique': 2, 'anglais-russe': 11, 'anglais-chinois': 4, 'catalan': 7, 'religion': 10, 'profession': 2, 'epic': 1, 'disque': 1, 'anglais-portugais': 2, 'comen': 1, 'evènementielle': 1, \"l'animation\": 17, 'communautés': 1, 'tic-arc': 1, 'personnel': 2, 'emploi': 3, 'paie': 4, 'mondialisation': 3, 'ecritures': 2, \"com'media\": 1, \"l'économie\": 36, 'mdtess': 1, 'cognition': 35, 'marchés': 53, 'plastique': 47, 'contemporain': 13, 'esthétique': 19, 'théorie': 22, 'écocitoyenne': 1, 'pragmatique': 1, 'institutionnelles': 1, \"l'audiovisuel\": 8, 'jours': 12, 'générales': 4, 'langues-': 2, 'culture-': 2, 'spiritualité': 2, 'ecmn': 1, 'im': 4, 'traducteur': 3, \"l'etat\": 4, 'mmi': 1, \"l'ebs\": 1, \"d'état\": 3, \"d'architecte\": 2, 'architecte': 43, 'civil': 237, 'projeteur': 6, 'cao-dao': 5, 'bâtiment': 329, \"d'interieur\": 1, \"d'interieur/designer\": 1, 'btp': 63, 'clermont-ferrand': 49, 'architecture': 75, \"d'espaces\": 4, 'géographie/urbanisme': 2, 'villes': 17, 'énergie': 267, 'climatique': 118, 'réhabilitation': 22, 'ville': 34, 'eivp': 5, 'dessinateur': 26, 'bim': 10, \"d'espace\": 1, \"d'intérieur/designer\": 1, 'spéciale': 29, 'estp': 8, 'rénovation': 18, 'biosourcée': 1, 'savoie': 59, 'chambéry': 55, \"l'énergétique\": 10, 'efficacité': 35, 'energétique': 66, 'diagnostics': 18, 'immobiliers': 15, 'diagnostiqueur': 29, 'immobilier': 43, 'matériaux': 815, 'déchets': 47, 'issus': 6, 'limoges': 71, 'caen': 30, 'esitc': 10, 'corse': 1, 'bâtiments': 88, 'heq': 1, 'electricité': 76, 'électrique': 204, 'énergies': 57, 'renouvelables': 83, 'métrologie': 61, 'contruction': 3, 'basse': 6, 'consommation': 18, 'passif': 4, 'energie': 134, 'enr': 8, 'positive': 1, 'historique': 7, 'cesi': 46, 'itii': 77, 'ile': 23, '2000': 12, 'infrastructure': 42, 'géotechnique': 26, 'mine': 101, \"d'alès\": 36, 'mines-télécom': 64, \"d'aix-marseille\": 25, 'mécanique': 755, 'metz': 10, \"l'efficacité\": 1, 'energétiques': 10, 'optimisation': 51, 'azur': 14, 'rochelle': 2, 'insa': 3, 'strasbourg': 123, 'um': 3, 'euse': 22, 'eco-construction': 2, 'demande': 1, 'construire': 1, 'pegc': 1, 'pathology': 62, \"l'energie\": 24, 'transfrontalière': 4, 'nantes': 88, 'centrale': 62, 'loire': 49, 'mériers': 1, 'itc-btp': 1, 'géologie': 43, 'géoressources': 18, 'géorisques': 17, 'géologiques': 9, 'aléas': 6, 'dsga': 6, 'pétrole': 33, 'moteurs': 41, 'enspm': 24, 'gisements': 8, 'hydrographe': 25, 'sous-sol': 5, 'géoingénierie': 5, 'agi': 3, 'géotechniques': 6, 'ggg': 6, 'géophysique': 21, 'surface': 22, 'subsurface': 2, 'g2s': 2, 'telluriques': 4, 'rnt': 4, 'brevet': 125, 'gaz': 20, \"l'énergie\": 44, 'petroleum': 8, 'pétrolier': 26, 'manufacture': 11, 'ecp': 11, 'ressource': 5, 'gp': 3, 'poitier': 50, 'pétrolières': 10, 'ensegid': 1, 'hygiène': 115, 'assainissement': 8, 'sondeur': 2, 'géoénergies': 2, 'extractives': 2, 'détection': 13, \"l'ingénieur\": 84, 'euro': 11, 'hyroinformatique': 3, 'aqua': 3, 'hydrogeology': 3, 'associated': 3, 'transfer': 3, 'géomatique': 37, 'géo-mesures': 1, 'foncier': 2, 'application': 253, 'imagerie': 26, 'astrophysique': 11, 'imag2e': 1, 'exploration': 14, 'ensg': 2, 'industrielles': 129, 'instrumentation': 144, '1': 90, 'géoréférencement': 1, 'topographie': 22, 'sorbonne': 60, 'observatoire': 1, 'terrestres': 8, 'complex': 88, 'industriels': 359, \"l'univers\": 12, 'hydraulicien': 3, 'brest': 30, 'continus': 12, 'pierre': 55, 'marie': 51, 'curie': 51, 'vi': 23, 'géochimie': 4, 'géomatériaux': 4, 'géobiologie': 4, '3ge': 4, 'stepe': 3, 'superviseur': 13, 'réservoir': 3, 'stee': 5, 'oceaniques': 5, 'hauturiers': 5, 'envolh': 5, 'géo-énergies': 3, '2g': 3, 'géo-mesure': 1, 'hydro': 4, 'technologiques': 74, 'hydroprotech': 3, 'réservoirs': 6, 'revégétalisation': 1, 'minier': 1, 'paris-vi': 28, 'iii': 24, 'marseille': 38, 'aix-marseille': 40, 'spécialiste': 18, \"d'exploitation\": 36, 'solaire': 13, 'transport': 157, 'ferroviaires': 22, 'chauffage': 5, 'ventilation': 4, 'climatisation': 18, 'bureau': 10, \"d'orléans\": 16, 'métreur': 8, 'reprise': 8, 'pme': 36, 'devenir': 13, 'économies': 6, \"d'énergie\": 12, 'neuf': 4, 'ponts': 12, 'chaussées': 12, 'enpc': 12, \"d'opération\": 6, 'complexe': 5, \"d'application\": 7, 'esag': 4, \"d'activités\": 28, 'nucléaire': 62, 'saint-etienne': 31, 'dessinateur-concepteur': 4, 'cao': 12, 'dao': 4, 'éco': 8, 'genie': 11, 'assistée': 30, 'ordinateur': 39, 'civile': 21, 'mécanismes': 13, 'automatique': 314, 'électriques': 94, \"'gestion\": 5, 'gr2e': 5, 'entrepreneur': 24, 'economiste': 5, 'esac': 4, 'thermique': 42, 'thermiques': 18, 'vibration': 15, 'acoustiques': 8, \"l'immobilier\": 9, 'intertropicale': 7, 'route': 14, 'voierie': 4, 'diver': 8, 'energy': 43, 'confort': 10, 'froid': 16, 'énergétiques': 45, 'meer': 4, 'cachan': 8, 'électricité': 96, \"l'habitation\": 16, 'industriel': 294, 'sti': 9, 'tertiaires': 10, 'hautes': 20, 'télécommunications': 465, 'tic': 6, 'batiments': 4, 'p2eb': 4, 'esip': 12, 'eclairage': 7, 'acoustique': 56, 'fondamentale': 31, 'éco-éclairage': 4, 'afitp': 4, 'mécanique-électricité': 4, \"d'infrastructure\": 12, 'fluides': 21, 'domotique': 22, 'fluidique': 5, 'conditionnement': 28, 'air': 14, 'tous': 14, 'corp': 8, 'canalisation': 3, 'terrassement': 5, 'télécoms': 12, 'très': 5, 'débit': 9, 'mr': 2, 'tp': 2, \"d'affaire\": 2, 'peintre': 20, 'bm': 28, 'couvreur-zingueur': 6, 'installateur': 29, 'voiries': 4, 'bivrd': 2, 'tpa': 2, 'personnes': 115, 'matériels': 19, 'jeux': 25, 'encadrement': 39, 'constructifs': 4, 'ouvrages': 5, 'réunion': 7, 'indien': 3, 'routières': 4, 'gros': 2, 'aménagement-finitions': 1, 'finition': 1, 'menuiseries': 4, 'façades': 3, 'optique': 77, 'nanotechnology': 34, '1er': 14, 'échelon': 1, 'vrd': 1, 'ameublement': 11, \"l'électricité\": 5, 'charpentier': 10, 'constructeur': 6, 'architectural': 18, 'classe': 48, 'charpente': 2, 'maison': 5, 'ossature': 1, 'escalier': 1, 'couverture': 3, 'éco-construction': 5, 'bbc': 2, 'maçonnerie': 1, 'opt': 7, 'sculpteur': 5, 'ornementiste': 3, 'poseur': 5, 'menuisier': 12, 'fabricant': 6, 'ébéniste': 2, 'électrotechnicien': 4, \"d'installations\": 8, \"d'infrastructures\": 2, 'aéronautiques': 18, 'electrotechnicien': 3, 'installation': 69, 'electricien': 7, \"d'équipement\": 8, \"d'installation\": 4, 'piscines': 2, 'btm': 5, 'bcp': 2, 'automatisés': 62, 'ctm': 6, 'agenceur': 3, 'cuisine': 13, 'salles': 3, 'bains': 3, '6': 3, 'fumisterie': 1, 'climatiques': 12, 'ramoneur-fumiste': 1, '19': 1, 'piscine': 2, 'membrane': 6, 'armée': 2, '4': 3, 'plomberie': 1, 'equipements': 4, 'sanitaires': 24, 'monteur': 11, 'cheminée': 2, 'poêle': 1, 'fumiste': 2, 'aluminium': 2, 'serrurier': 1, 'dépanneur-installateur': 1, 'métallerie': 4, 'métallier-serrurier': 1, 'pose': 1, 'métallerie-': 1, 'ferronnerie': 2, 'menuiserie-acier': 1, 'poseur-installateur': 1, 'fermetures': 1, 'aluminium-verre': 1, 'couvreur': 2, 'solaires': 2, 'zinguerie': 1, 'photovoltaïque': 1, 'couverture-ornemaniste': 2, 'métallique': 3, 'ornemaniste': 3, 'etancheur': 2, 'bardeur': 3, 'étancheur': 3, 'aéronautique': 90, 'béton': 2, 'revêtement': 1, 'bitumineux': 1, 'calorifuge': 1, 'etanchéité': 1, 'maçon': 5, 'crue': 1, 'compagnon': 3, 'gros-œuvre': 1, 'ramoneur': 2, 'calcaire': 1, 'façonnier': 2, 'intérieur': 3, 'canalisateur': 1, 'administrative': 7, 'sportives': 134, 'oenotouristiques': 2, 'œnotourisme': 1, 'anthropologie-ethnologie': 2, 'intermodalité': 3, 'bioterre': 1, \"d'hébergement\": 2, 'cithecs': 1, 'moyen-age': 2, 'période': 2, 'contemporaine': 7, 'mtd': 3, 'loisir': 19, 'architecturaux': 5, 'patrimonial': 2, 'sp.valorisation': 2, 'guide': 23, 'conférencier': 11, 'touristique': 42, 'unité': 32, 'hospitalités': 2, 'accueil': 8, 'administrateur': 73, 'immatériel': 10, 'histoire-géographie': 8, 'activites': 3, 'comptoir': 1, 'strategique': 2, 'anglais/': 2, 'accompagnateur': 12, 'écotourisme': 1, 'locale': 12, 'général': 42, 'of': 11, 'new': 3, 'tourism': 3, 'mct': 3, 'spé': 3, 'guide-conférencier': 7, 'médiévaux': 9, 'mathématiques': 405, 'miashs': 28, 'randonnées': 6, 'équestres': 10, 'tertiaire': 4, 'guide-interprète': 5, 'interprétariat': 4, 'signes': 9, \"d'alpinisme-accompagnateur\": 7, 'moyenne': 9, 'socio-éducative': 12, 'socioculturelle': 15, 'populaire': 127, 'cpjeps': 5, 'quotidienne': 5, 'vieillissement': 22, 'adaptées': 24, 'bibliothécaire': 9, 'forme': 60, \"d'accueil\": 23, 'tourisme-loisirs': 7, \"d'animation\": 15, 'coordonnateur': 71, \"l'archéologie\": 6, 'premier': 109, 'metier': 17, 'educatif': 16, 'scientifiques': 13, 'éducatif': 16, 'musicologie': 21, 'cinéma': 22, 'ludothécaire': 10, 'jeu': 12, \"d'outils\": 9, 'transmission': 9, 'all': 23, \"l'education\": 14, 'finance': 176, 'éducateur': 34, 'sportif': 124, 'vert': 2, 'hippique': 2, '-spécialité': 2, 'gardien': 11, 'refuge': 2, 'hôtellerie-restauration': 4, 'cinématographique': 2, 'sest': 2, \"d'actions\": 3, 'socioculturelles': 3, 'econome': 2, 'collectivité': 4, 'voile': 15, 'transfrontalier': 7, 'pleine': 4, 'récréatives': 6, 'cinématographiques': 7, 'hôtelières': 2, 'ddtr': 2, 'gérant': 4, \"d'organisme\": 5, 'club': 13, 'golf': 21, \"d'entreprises\": 14, \"d'hôtellerie\": 2, 'hébergement': 2, 'et/ou': 34, 'iat': 1, \"d'un\": 26, 'profit': 37, 'logistique': 313, 'nautisme': 6, 'plaisance': 5, 'athl': 1, 'staps': 55, 'adaptée': 14, 'formulés': 19, 'orléans': 33, 'opale': 24, 'eil': 12, \"d'opale\": 26, 'ulco': 12, 'clermont': 29, 'auvergne': 20, 'clinique': 48, 'mathématique': 67, 'mécatronique': 108, 'électroniques': 51, 'embarquées': 21, 'toulouse-iii': 6, 'midi-pyrénées': 11, \"d'aérotechnique\": 8, \"l'aéronautique\": 21, \"l'espace\": 17, 'télécom': 46, 'paris-est': 11, 'esipe': 11, 'créteil': 21, 'val-de-marne': 13, 'propulsion': 39, 'productique': 52, 'desv': 7, 'diplômes': 7, 'vétérinaires': 11, 'médecine': 13, 'saint-étienne': 36, 'mesures': 32, 'contrôles': 18, 'physico-chimiques': 19, \"d'ingénierie\": 15, \"l'itii\": 180, 'picardie': 14, 'pharmacie': 8, 'cosmétique': 27, 'emballage': 23, 'denis-diderot': 9, 'cité': 9, 'douai': 33, 'compiègne': 16, 'utc': 16, 'plasturgie': 49, 'composite': 107, 'itii-paca': 11, 'lyon-i': 18, 'enscbp': 29, 'inp': 33, 'artificielle': 48, 'embarqués': 81, 'ensiame': 9, 'packaging': 26, 'écoconception': 13, 'marne': 7, 'vallée': 13, 'imac': 7, 'chimique-génie': 7, 'bretagne': 92, 'atlantique': 27, 'système': 170, 'navigation': 18, 'aérienne': 15, 'val': 19, 'rouen': 69, 'yvelines': 12, 'isty': 12, 'uvsq': 12, 'paris-saclay': 9, 'microsystèmes': 11, 'embarquée': 15, 'process': 22, 'parfum': 8, 'arômes': 10, 'electronique': 174, 'agroalimentation': 10, \"d'angers\": 20, 'cellulaire': 99, 'moléculaire': 71, 'sud-alsace': 13, 'ensisa': 6, 'statistique': 121, 'microélectronique': 35, 'commande': 23, 'xi': 31, 'optronique': 14, \"l'automobile\": 10, 'pharmacologie': 22, 'epidémiologie': 11, 'mpce': 11, 'is': 9, 'nuisance': 23, 'prnt': 21, 'nucléaires': 41, 'nuc': 8, \"d'électricité\": 10, \"d'électrotechnique\": 26, \"d'électronique\": 51, \"d'informatique\": 55, \"d'hydraulique\": 38, 'ensiacet': 17, \"l'esitech\": 11, 'vétérinaire': 16, 'nantes-atlantique': 13, 'oniris': 13, 'agro-industrie': 13, 'médicament': 59, 'cate': 8, 'cqpm': 32, 'expérimentale': 35, \"d'applications\": 46, 'laser': 19, 'math-stic': 12, 'mobile': 43, 'automatisation': 16, 'informatisation': 9, 'traçabilité': 11, 'aitsp': 6, 'spe': 8, 'majeurs': 8, 'rm': 8, 'professionnels': 26, 'rpi': 10, 'dnat': 6, 'agro-alimentaires': 33, 'pvia': 9, 'ise': 14, 'sciences-technologie-santé': 18, 'matière': 96, 'particules': 8, 'propres': 10, 'textile': 112, 'usage': 10, 'photonique': 30, 'micro-nanotechnologies': 7, 'temp': 10, 'fréquence': 7, 'tvrn': 41, 'bcpp': 51, 'epithéliums': 8, 'interface': 31, 'esi': 8, 'sûreté': 54, 'moyens': 7, 'essai': 6, 'ime': 7, 'innovante': 13, 'rayonnement': 8, 'electroniques': 29, 'compatibilité': 6, 'electromagnétique': 6, 'franche-comté': 23, 'besançon': 6, 'isifc': 9, 'biomédicales': 10, 'mta': 6, 'toxicologie': 41, 'algorithmique': 10, 'electrique': 78, 'chimie-physique': 10, 'mathematiques': 13, 'applique': 10, 'fusion': 12, 'plasma': 10, 'métrologie-qualité': 16, 'appliqué': 16, 'méthodes': 147, 'matériau': 10, 'comet': 8, 'signal-image': 10, 'biosanté': 10, 'rib': 10, 'embarques': 10, 'specialite': 26, 'nutrition-sante': 6, 'pm': 6, 'secteurs': 8, \"l'éco-conception\": 9, 'moléculaires': 23, 'génome': 17, 'dépollution': 40, 'bio': 12, 'robotique': 72, 'organisations-': 8, 'propriété': 21, 'intellectuelle': 18, 'cellulaires': 20, 'bdc': 7, 'médicale': 15, 'mécaniques': 33, 'spi': 13, 'cm': 8, 'nanostructures': 9, 'nanophotonique': 9, 'ingéniérie': 12, 'avancée': 23, 'signal': 28, 'sisea': 7, 'immunologie': 18, 'autonomie': 14, 'i2sa': 12, '2id': 9, 'ecotoxicologie': 15, 'evaluation': 17, 'vigilance': 10, 'therv': 10, 'fabrication': 29, 'habillement': 46, 'aéro-structures': 6, \"d'innovation\": 16, 'pilotage': 41, 'fonctionnels': 14, 'clean': 6, 'concept': 21, 'aptitude': 11, 'managériales': 8, 'adaptation': 10, 'emballages': 8, 'calcul': 27, 'quantitative': 20, 'économétrie': 16, 'game': 9, 'theory': 7, 'experiment': 7, 'applied': 8, 'econometrics': 7, 'gaexa': 7, 'caq': 10, 'vide': 14, 'sou': 16, 'cosmétiques': 12, 'fondamentaux': 18, 'physico-chimie': 18, 'bio-informatique': 38, 'navale': 20, 'nautique': 22, 'capteurs': 23, 'catalyse': 17, 'verte': 9, 'prototypage': 8, 'outillage': 8, 'rapide': 6, 'additifs': 8, 'auxiliaires': 8, 'informatisée': 6, 'electricité-electronique': 9, 'electrotechnique': 14, 'biomédicale': 14, \"d'étude\": 8, 'toxicologique': 11, 'consommateur': 11, 'eco-concepteur': 7, 'ecosym': 7, 'processus': 73, 'm3p': 6, 'ergee': 10, 'stochastiques': 9, 'c3p': 10, 'sp.pnano': 7, 'nanomatériaux': 17, 'accessoires': 20, 'footwear': 11, 'simulation': 14, 'pharmaceutique': 22, \"l'emballage\": 10, 'métallurgie': 16, 'istab': 9, 'cmao': 6, 'biologie-santé': 45, 'thérapeutique': 15, 'bbrt': 10, 'articc': 8, 'induites': 8, 'circuit': 14, 'formulation': 38, 'insat': 26, 'sonore': 11, 'composants': 8, 'optoélectroniques': 8, 'anthropisés': 7, 'supervision': 12, 'fodipa': 7, 'ensica': 10, 'physiologique': 10, 'biotechnologique': 8, 'ergonomie': 73, 'cognitive': 17, 'automatismes': 20, 'vision': 20, 'cosmétologiques': 12, 'infectiologie': 14, 'vaccinologie': 10, 'anticorps': 10, 'thérapeutiques': 27, '3il': 9, 'facteurs': 23, 'humains': 24, \"l'atee\": 8, 'nanosciences': 19, 'fonctionnalisation': 10, 'biochimique': 10, 'modèles': 16, 'protocoles': 17, 'nanobiosciences': 11, 'exercice': 10, 'minérales': 8, 'industrialisation': 22, 'avancées': 65, 'istase': 14, 'spatiale': 16, 'enseeiht': 17, 'isep': 8, 'paris-x': 6, 'île': 6, 'ensta': 8, 'atomique': 8, 'instn': 8, 'synthèse': 25, 'catholique': 36, \"d'arts\": 43, \"l'ist\": 7, 'vendée': 7, 'ile-de-france': 50, 'esiea': 9, 'enst': 9, 'troyes': 26, 'utt': 9, 'nord': 8, 'calais': 11, '13': 24, 'syndicat': 9, 'chaudronnerie': 32, 'tôlerie': 15, 'tuyauterie': 15, 'belfort-montbéliard': 21, \"d'optique\": 7, 'théorique': 7, 'marne-la-': 6, 'mac': 8, 'yncréa': 15, 'hauts-de-france': 14, 'esirem': 10, \"l'ouest\": 13, 'eseo': 11, 'organique': 12, 'minérale': 9, 'escom': 7, 'caoutchouc': 7, 'estia': 9, 'micro-organismes': 7, 'cy': 20, 'tech': 18, 'cergy': 10, \"d'electrotechnique\": 13, \"d'electronique\": 17, 'toulouse-': 10, 'cpe': 12, 'epf': 7, 'ex': 9, 'féminine': 9, 'luminy': 12, 'co-habilité': 12, 'provence': 11, 'rennes-1-': 10, 'fonderie': 22, 'forge': 17, 'esff': 8, 'supmeca': 8, 'iesff': 8, 'jean-françois': 10, 'champollion': 10, 'qhse': 7, 'inspecteur': 7, 'vérification': 1, 'périodique': 1, 'mqsi': 2, 'génies': 2, 'non-destructif': 1, \"d'incendie\": 5, \"d'explosion\": 5, 'ensil-ensci': 13, 'opérations': 46, 'incendie': 24, 'lutte': 34, 'contre': 29, 'sinistres': 29, 'esstin': 5, 'solide': 8, \"l'activité\": 6, 'ieap': 4, 'enscp': 4, 'sigma': 4, 'g.s.i.g.e': 4, 'mece': 4, 'ig': 2, 'responsabilité': 14, 'sociétale': 9, 'sécurité/sûreté': 4, 'gedd': 4, 'apprentissage': 10, 'rn': 3, 'qse': 10, 'mater': 4, 'mesure': 35, 'conversion': 13, 'stockage': 14, 'ges-costo': 3, 'propreté': 5, 'firmes': 12, 'qualite': 5, 'securite': 9, \"l'agroalimentaire\": 14, 'travail': 98, 'bioindustries': 3, 'boues': 3, 'leurs': 11, 'pluri': 3, 'opération': 3, 'éolien': 3, 'offshore': 3, 'como': 3, 'eea': 7, 'subatomiques': 10, 'ar': 10, 'physique-chimie': 7, 'radioprotection': 18, 'ensbana': 3, 'effluent': 5, 'gazeux': 5, 'reconversions': 4, 'mulhouse': 18, 'enscmu': 5, 'mouvement': 6, 'spectroscopiques': 8, \"d'analyses\": 13, 'nord-pas-de-calais': 7, 'assurance': 34, 'corporelle': 5, 'ong': 2, 'médicaments': 14, 'spécialité': 15, 'santé': 9, 'angevine': 8, \"l'ifria\": 10, 'enscr': 4, \"l'uic\": 2, 'haute-normandie': 2, \"l'éco-efficacité\": 4, 'pau': 15, 'adour': 2, 'préventeur': 7, 'santé-sécurité': 8, 'incendies': 14, 'hygiéniste': 2, 'danger': 3, 'essais': 6, 'bretagne-sud': 14, \"l'adour\": 1, 'viti-vinicoles': 2, 'signaux': 9, 'sibm': 3, 'mecanique': 5, 'efo': 2, 'équipe': 42, 'atelier': 13, 'naval': 8, 'condition': 5, 'sécurite': 5, 'ssi': 2, 'mrie': 1, \"d'encadrement\": 6, 'qsa': 5, 'rayonnements': 2, 'atmosphères': 2, 'extérieure': 2, 'électroacoustique': 1, 'pollution': 8, 'raffinage': 3, \"d'agronomie\": 5, 'intégrés': 10, 'egtp': 1, 'mqsa': 3, 'iaa': 6, 'continue': 15, 'usinage': 7, 'déformation': 2, 'qualité/animateur': 3, 'cotiers': 3, 'enscl': 4, 'évaluation': 11, 'bioactives': 5, 'qualités': 1, 'filière': 11, 'viti-vinicole': 1, 'social': 120, 'stratégiques': 6, 'gérontologie': 7, 'soins': 11, 'chaudronnées': 1, 'alençon': 3, 'eipi-ispa': 3, 'criminologie': 10, 'prodv': 4, \"d'eau\": 6, 'ensccf': 1, 'toxicologiques': 1, 'mmri': 5, 'bio-industries': 15, 'sctic': 4, 'élaboration': 9, 'séparation': 2, 'confinement': 2, 'cellules': 15, 'cibles': 13, 'bc2t': 13, 'inflammation': 3, 'malady': 3, 'inflammatoires': 8, 'imi': 3, 'démantèlement': 4, 'equipes': 3, 'ecotechnologies': 6, 'terrestre': 6, 'gst': 9, 'dynarisk': 3, 'thérapie': 2, 'innovantes': 6, 'bpti': 2, 'i2s': 4, 'qsrim': 2, 'qesis': 1, 'déploiement': 6, 'qualité-sécurité-environnement': 3, 'innovants': 18, 'ensaia': 2, 'grisse': 2, 'expertise-mesures-environnement': 3, 'q': 4, 'ensic': 1, 'ensip': 3, 'pénal': 31, 'criminelles': 66, 'enscm': 8, 'polymères': 21, 'éco-toxicologie': 4, 'rse': 9, \"l'isp-picardie\": 2, 'automobile': 59, 'nevers': 6, 'bourgogne': 6, 'initiale': 6, 'statut': 6, 'apprenti': 6, 'ensam': 1, 'savoy': 5, 'eco-énergéticien': 4, 'bio-procédés': 5, 'immobilière': 11, 'grespii': 3, 'éco-concepteur': 2, 'vitivinicoles': 1, 'risk': 3, 'ensgti': 2, 'procédés-': 2, 'toxicologie-environnement-santé': 2, 'bourges': 3, 'ensi': 3, \"l'if3e\": 3, 'enscpb': 6, '1/3': 1, 'prime': 1, '2/3': 1, 'tci': 1, '3/3': 1, 'créativité': 1, 'cide': 1, 'automatisée': 5, 'station': 3, 'rise': 3, 'différenciation': 4, 'gdc': 4, 'impact': 3, 'biomolécules': 19, 'bt': 4, 'pyrotechnie': 2, 'mrqid': 5, 'ggrc': 1, 'hydroinformatique': 5, 'euro-aquae': 5, 'spéc': 2, 'assitant': 1, 'déconstruction': 1, 'décontamination': 1, 'reservoir': 2, 'geoscience': 2, 'engineering': 6, 'bioproductions': 1, 'cnam': 5, 'facteur': 4, 'humain': 5, \"l'approche\": 6, 'enstima': 2, 'métrologue': 2, \"l'air\": 2, 'caractérisation': 8, \"l'agrochimie\": 3, 'ensibs': 14, 'matières': 5, 'mobilisation': 1, 'pluri-techniques': 4, 'aviation': 4, 'ienac': 1, 'i2e': 1, 'source': 8, 'ges-soco': 5, 'bioqualim': 2, 'préventions': 2, 'interne': 21, 'qci': 5, 'défense': 18, \"l'impact\": 4, \"l'aliment\": 6, 'avancés': 25, 'bvi': 2, 'écotechnologies': 4, 'physicien': 4, 'chimiste': 6, 'aqueux': 1, 'biologie-santé-environnement': 2, 'bse': 2, 'mipsa': 6, 'rejets': 3, 'm2-sie': 3, 'advanced': 9, 'material': 4, 'approfondies': 6, 'engees': 4, 'bepa': 2, 'contrôle-qualité': 2, 'stl': 1, 'biochimie-biologie': 10, 'lumière': 7, 'couleur': 1, 'dispersés': 1, 'parfums': 3, 'ingrédients': 1, 'imoc': 4, 'mtacb': 1, 'diagnostiques': 2, 'destructif': 8, 'cndms': 4, 'imhp': 2, \"l'instrumentation\": 11, 'biochimiques': 3, 'soudage': 12, 'pcma': 1, 'métaux': 12, 'alliages': 6, 'microscopie': 4, 'rhéologie': 2, 'intégrées': 3, 'bio-actives': 3, 'biologie-biochimie-biotechnologies': 4, 'manufacturières': 1, 'fine': 4, 'mib': 1, 'bioanalyses': 1, 'extérieur': 2, 'pétrochimiques': 1, \"d'opérateur\": 1, 'combustion': 9, 'production-traitements': 3, 'utilisation': 1, 'intelligents': 17, 'eco-gestion': 4, 'pilote': 17, \"d'appareils\": 1, 'cqpi': 6, 'fluidiques': 7, 'éoliens': 6, 'ascenseurs': 4, 'élévateurs': 3, 'machine': 13, 'tournantes': 4, 'pression': 6, 'signalisation': 10, 'ferroviaire': 10, 'automatisées': 14, 'modernisation': 1, \"d'éoliennes\": 2, 'après-vente': 7, 'engins': 2, 'manutention': 3, 'connectés': 2, 'section': 1, 'électrotechnique': 13, 'mécanicien': 45, 'armement': 13, 'petits': 8, 'calibre': 7, 'puissance': 9, 'systémes': 2, 'sarii': 5, 'ieii': 1, 'gim': 3, 'nivoculteur': 1, 'neige': 1, \"d'intervention\": 15, 'professionnelles': 4, 'réseau': 31, 'photoniques': 4, 'intervenant': 6, 'soutien': 4, 'véhicules': 38, 'matériel': 7, \"d'environnement\": 7, 'contraints': 5, 'asservis': 3, \"d'équipes\": 6, 'surveillance': 26, 'gpi': 3, 'controle': 7, 'electrohydraulique': 3, 'manutention/levage': 1, 'éléctricité': 2, \"d'air\": 2, 'gte': 2, '7': 3, 'monteur-dépanneur': 1, \"d'équipements\": 3, 'fluides-energies-environnements': 1, 'maint': 1, 'hôtelière': 2, 'hospitalière': 8, 'operateur': 5, 'pyrotechnique': 25, 'restes': 10, 'explosifs': 9, 'guerre': 9, 'usines': 4, \"d'interventions\": 3, \"d'urgence\": 16, 'secours': 21, 'sapeurs-pompiers': 2, 'sécuritaire': 5, 'anticipation': 3, 'collecte': 10, 'plan': 3, 'contingence': 3, 'opérationnelle': 26, 'carrières': 38, 'cp': 3, 'sd': 4, 'urgence': 4, 'marin-pompier': 4, 'secourisme': 4, 'poste': 5, 'commandement': 15, \"d'assistance\": 16, 'brancardier': 1, 'membre': 2, 'équipage': 2, 'médical': 3, 'hélicoptère': 4, 'caravane': 1, 'moniteur': 51, 'conduire': 4, 'migration': 6, 'solution': 36, 'mobilité': 22, 'complexité': 6, 'mobilités': 2, 'urbains/territoriaux': 2, \"l'intervention\": 6, 'muséo-expographie': 1, 'accompagnement': 13, 'oenotourisme': 3, 'événementiels': 2, 'collection': 6, 'feu': 4, 'mission': 6, 'e-tourisme': 3, 'historiques': 9, \"d'unité\": 19, 'edt': 3, 'dheps-reps': 2, 'cicm': 3, 'archive': 22, 'mecadoc': 8, 'reconversion': 7, 'suds': 2, 'professionel/recherche': 1, \"d'insertion\": 3, 'solidaires': 2, 'insertion': 3, 'strategie': 5, 'danse': 13, 'cirque': 5, 'martiaux': 7, \"l'exposition\": 2, 'eco-énergie': 1, 'developpement': 5, 'découverte': 1, 'socio-économiques': 9, 'ceseat': 3, 'adaptés': 1, 'audt': 5, 'ecodéveloppement': 3, 'ecodev': 3, 'jeunes': 6, 'adultes': 4, 'firme': 10, 'socio-culturelle': 1, \"d'activité\": 5, 'périurbain': 1, 'équine': 6, \"l'innovation\": 25, 'entrepreunariat': 3, 'sociologiques': 3, 'anthropologiques': 2, 'mape': 3, 'isc': 1, 'sociaux': 9, 'genre': 11, 'évaluer': 1, 'sportive': 47, '39': 3, 'discipline': 36, 'cf': 8, 'liste': 8, 'légale': 8, 'restaurateur': 11, 'graphiques': 7, 'mobilier': 1, 'peinture': 6, 'photographie': 3, 'sculpture': 4, 'nationaux': 4, 'dsts': 1, 'gaemp': 1, 'citoyenneté': 1, 'dedpad': 1, 'euro-méditerranéen': 1, 'lecture': 3, 'préhistoriques': 2, 'antique': 5, 'économie-gestion': 4, 'egp': 3, 'cdl': 1, 'aes': 8, 'societes': 5, 'anciens': 12, 'passé': 1, 'régional': 4, 'economiques': 23, 'homme': 10, \"l'histoire\": 2, 'destination': 3, 'clientèles': 3, 'moderne': 12, 'echanges': 3, 'géoprospective': 2, 'geoprad': 2, 'patrimoniaux': 1, 'éducatives': 1, 'socioculturel': 2, '--': 10, 'géo-référencées': 1, 'gérontologiques': 2, \"l'urbain\": 3, 'eapt': 3, 'ap': 1, 'economie-gestion': 11, 'ser': 1, '–economie': 2, '-gestion': 2, 'qualitatives': 4, 'quantitatives': 6, 'liées': 3, \"l'egalité\": 5, 'egales': 4, 'égalité': 1, 'résilience': 1, \"l'autonomie\": 6, \"l'habitat\": 4, 'pep': 2, 'sadl': 2, 'dyater': 1, 'territorialités': 1, 'sociologique': 4, 'interdisciplinaires': 6, 'tisser': 2, 'egalite': 2, 'périurbains': 1, 'sociales/': 5, 'spécifiques': 4, 'cabinet': 9, \"d'avocat\": 2, 'vins': 28, 'spiritueux': 21, 'partenariats': 6, 'public-privé': 4, 'contentieux': 18, 'maritime': 24, 'banque': 28, 'cycle': 24, 'paris-dauphine': 9, 'fiscal': 7, 'personne': 15, 'procès': 10, 'pp': 4, 'droits': 17, 'créations': 6, 'immatérielles': 3, 'justice': 7, 'procédures': 8, 'europeenne': 2, \"l'entreprise/djce\": 2, 'bancaire': 11, 'financier': 41, 'marché': 7, 'fiscalité': 14, 'notarial': 11, 'étrangers': 7, \"l'union\": 8, 'privés': 2, 'approfondi': 5, 'français': 39, 'fiscaliste': 2, 'aérien': 8, 'judiciaires': 27, 'contrats': 8, 'indifférenciée': 3, 'conseiller/ère': 4, 'aspect': 4, 'comptables': 2, 'immeuble': 4, 'europeen': 3, 'djce': 3, 'prevention': 3, 'pgrds': 3, 'deermal': 2, 'responsabilités': 2, 'minorités': 2, 'transfrontières': 3, 'compétences': 25, 'sein': 3, 'pénales': 3, 'victimologie': 2, 'notariat': 2, 'délégué': 9, 'dpo': 3, 'officer': 11, 'fiscale': 3, 'comparé': 6, 'pensée': 8, 'éthique': 7, 'recherche/professionnel': 1, 'processuel': 2, 'pme-pmi': 21, 'économe': 2, 'd2a': 1, 'financière': 46, 'humanitaires': 2, 'syndical': 2, 'trilingue': 5, 'franco-américain': 1, 'vulnérables': 2, 'juristes': 1, 'financement': 2, 'patrimoniale': 8, 'goste': 1, \"d'assainissement\": 2, 'liquides': 2, 'spéciaux': 6, 'collaboratifs': 2, 'valoriste': 1, 'nettoiement': 2, 'collecteur': 2, 'biodéchets': 2, 'démonteur': 1, 'automoible': 1, 'confirmé': 2, 'recyclage': 3, 'réemploi': 1, 'eern': 1, 'gemeau': 1, 'prospection': 2, 'eco-épidémiologie': 3, 'biomédical': 11, 'approches': 11, 'aire': 7, 'man': 17, 'reproduction': 8, 'reprodev': 4, 'microbienne': 2, 'marqueurs': 2, 'non-linéaire': 3, 'pcmhp': 4, 'paléobiologie': 6, 'phylogénie': 6, 'ppp': 3, 'plurimedia': 5, 'microélectroniques': 3, 'mri': 5, 'systémique': 2, 'synthétique': 4, 'prévisionniste': 4, 'météorologiste-océanographe': 5, 'thérapies': 2, 'expérimentales': 6, 'immunité': 5, 'animal': 9, 'règlementation': 3, 'biothérapies': 2, 'tissulaires': 2, 'géniques': 2, 'interaction': 15, 'gène': 6, 'décisionnel': 13, 'statisitique': 4, 'mpi': 2, 'biologie-écologie': 2, 'expérimentaux': 5, 'vem': 3, 'probabilités': 4, 'statistiques': 22, 'molécule': 4, 'lumomat': 4, 'biotechnologies-spécialité': 2, 'cœur': 6, 'circulation': 10, 'biocœur': 6, 'nanobiomatériaux': 3, 'spectrométrie': 3, 'epidémiologie': 3, 'ingénierie-écoulements': 2, 'diphasiques': 2, \"l'ingenieur\": 3, 'modélisations': 6, 'biobanques': 7, 'matics': 4, 'alsace': 18, 'comparée': 8, 'brh': 1, 'formelles': 5, 'virologie': 4, 'imvi': 4, '-développement': 4, '-immunologie': 4, '-microbiologie': 8, '-virologie': 4, 'econométrie': 8, 'biominéralisation': 5, 'morphogenèse': 5, 'bmpi': 5, 'apas': 2, 'rdm': 2, 'reseau': 9, 'neuro': 4, 'comportement': 4, 'agro-molécules': 1, 'fondamentales': 10, 'hyperfréquences': 3, 'méthodologies': 2, 'chimie–spécialité': 2, 'csm': 2, 'dcps': 1, 'corpusculaire': 1, 'cryptographie': 3, 'télédétection': 7, 'spatiales': 12, 'tt': 8, 'respiration': 2, 'sommeil': 2, 'b2prs': 2, 'fiabilité': 5, 'fiches': 4, 'mane': 2, 'motrice': 2, 'armes': 4, 'mtibh': 5, 'linéaires': 1, 'biologie-informatique/bioinformatique': 5, 'bib': 5, 'perception': 3, 'physique-laser-matériaux': 1, 'biomatériaux': 3, 'fonctions': 11, 'structurale': 1, 'in': 27, 'silico': 14, 'drug': 8, 'médicament-macromolécules': 3, 'cryptis': 2, 'cryptologie': 6, 'vasculaire': 4, 'athérosclérose': 4, 'thrombose': 4, 'hémostase': 4, 'bivath': 4, 'argiles': 8, 'clay': 3, 'spectroscopie': 2, 'métabolisme': 4, 'numési': 4, 'sciences-technologies-sante': 2, 'migs': 2, 'materiaux': 13, 'mesc': 10, 'acsyon': 2, 'symbolique': 2, 'subatomique': 1, 'astroparticules': 1, 'orale': 1, 'poa': 1, 'biocatalyse': 2, 'analogique': 1, 'micro-électronique': 1, 'sp.ingénierie': 4, \"l'informatique\": 54, 'plante': 2, 'agrosystème': 2, 'neurobiologie': 3, 'supramoléculaire': 1, 'macromolécules': 1, 'genetique': 3, 'autonomisation': 3, 'réadaptation': 3, 'cnano': 3, 'gmt': 1, 'préhistoire': 8, 'doctorat': 2, 'envronnement': 2, 'doctorale': 2, 'gaia': 2, 'n°': 2, '584': 2, 'ensai': 7, 'ismans': 3, 'radiopharmaceutiques': 1, 'bio-morphologie': 1, 'bio-ingénierie': 1, 'squelette': 1, 'e-services': 3, 'msci': 5, 'biomécanique': 4, 'bioingénierie': 7, 'bmi': 4, 'stem': 5, 'biomar': 2, 'optoélectronique-hyperfréquences': 1, 'iol': 1, 'sv': 1, 'fœtale': 1, 'rcpf': 1, 'quaternaire': 4, 'paléoenvironnements': 6, 'lignée': 4, 'protéomique': 3, 'pures': 2, 'archéo-geo-sciences': 6, 'age': 6, 'approche': 1, 'interdisciplinaire': 1, 'demain': 1, 'productivité': 2, 'rif': 3, 'biotech': 2, 'plate-forme': 1, 'ipfb': 1, 'épidémiologie': 1, 'dermo-cosmétiques': 1, 'biovie': 2, 'icm': 1, 'embarquee': 4, 'microsystemes': 4, 'sege': 1, 'calculs': 7, 'ensieta': 2, 'bp2mc': 3, 'condensée': 1, 'nanophysique': 1, 'bioprocédés-': 1, 'biovigpa': 1, 'humain-machine': 1, 'medicament': 7, 'pharmaco-épidémiologie': 1, 'pharmacovigilance': 1, 'pepv': 1, \"l'analyse\": 8, 'ecoles': 3, \"d'économie\": 12, 'agrobusiness': 4, 'psychologue': 2, 'transversaux': 6, 'renseignement': 10, \"l'epf\": 5, 'audit': 64, 'neoma': 7, 'school': 25, 'ministère': 11, 'tema': 10, '5': 13, 'léonard': 4, 'vinci': 4, 'saint': 1, 'etienne': 1, 'ensmse': 3, 'audencia': 16, 'ebp': 3, 'multinationale': 3, \"d'enseignement\": 7, 'coach': 31, 'developpeur': 7, 'doit': 3, 'adminsitration': 2, 'chaîne': 27, 'entrepreneurial': 5, \"sup'est\": 1, 'tpe': 5, 'documentaire': 16, 'ethique': 5, \"l'ensil-ensci\": 3, 'si': 4, 'individuel': 3, 'portefeuille': 6, 'reporting': 6, 'coas': 1, 'cheval': 1, 'hommes': 6, 'achats': 90, 'gpla': 4, 'création/reprise': 2, 'ecole/': 1, 'essec': 2, \"d'établissement\": 6, 'inégalités': 3, 'discrimination': 2, \"l'égalité\": 2, 'champ': 2, \"l'emploi\": 2, 'tpe/pme': 1, 'alter': 1, 'tpe-pme': 3, 'fa': 6, 'masp': 2, 'dsdo': 1, 'opérationnelles': 4, 'laosi': 4, 'bioproduits': 2, 'esc': 11, 'reims': 16, 'ministre': 5, 'grenoble/programme': 5, 'céramique': 13, 'ensci': 2, 'socio-économique': 4, 'affaires-': 1, 'grh': 4, 'pge': 7, 'comptabilité': 66, 'cffp': 3, 'cac': 5, 'fecg': 3, 'sdo': 1, 'socio-psychologie': 2, \"l'entrepreneuriat\": 5, 'carbone': 1, 'emn': 3, 'microtechniques': 10, 'eclyon': 1, 'comptes': 4, 'office': 3, \"l'amélioration\": 6, 'numérique/': 2, 'plm': 3, 'cellule': 6, 'dirigeants': 10, 'responsables': 4, 'administratif': 9, 've': 5, 'bilingue': 5, 'lean': 3, 'cesem': 3, 'ex-diplôme': 3, 'ecam': 14, 'project': 3, 'international/international': 1, 'indifférencié': 6, 'professionnel/recherche': 4, \"l'economie\": 1, 'supply-chain': 5, 'communautaire': 4, 'mspc': 4, 'i-manager': 4, 'midi': 4, 'icn': 2, 'asr': 10, \"l'atmosphère\": 1, 'familiales': 2, 'entrepreunariales': 2, 'supply': 29, 'chain': 27, 'scd': 2, 'géostratégie': 6, 'emploi-formation': 2, 'sidie': 3, 'iva': 1, 'b.t.p': 1, 'crea': 1, 'relatifs': 1, 'psychosociologique': 1, 'libérales': 1, 'réglementées': 1, 'éco-responsabilité': 3, 'entrepreneuriales': 1, 'foqual': 1, 'géopolitique': 6, 'entités': 1, 'study': 2, 'research': 2, 'sociologie-ethnologie': 3, 'mpie': 1, 'iet': 1, 'nct': 2, 'drôme': 6, 'ardêche': 6, 'em': 6, 'ecosma': 3, 'ethnologie-sociologie': 1, 'logiques': 1, 'equitable': 1, 'cied': 1, 'ape': 3, 'quantitatif': 1, 'fouille': 3, 'fdgc': 3, 'aix': 5, 'macroéconomie': 1, 'meppp': 2, 'prévisions': 1, 'décisionnelle': 20, 'id': 5, 'maserati': 3, 'european': 5, 'ecology': 1, 'emmc-emae': 1, 'géomarketing': 2, 'fi/fa': 6, \"l'enquête\": 4, 'mining': 4, 'sp.mathématiques': 1, 'matméca': 1, 'moui': 1, 'finance-comptabilité': 6, '/santé': 1, 'vies': 1, 'modélisation': 3, 'ingénierie': 5, 'mathématique': 3, 'écoles': 5, 'théories': 4, 'actifs': 1, 'scientist': 1, 'formation-sciences': 2, 'louis': 8, 'broglie': 8, 'droit-économie-gestion': 1, 'march': 2, 'eadministration': 5, 'décisionnelles': 4, 'démographie': 3, 'démographe': 2, 'qpo': 1, 'dee': 3, 'market': 4, 'organization': 2, 'complémentaire': 8, 'psc': 1, 'immobilières': 1, 'isur': 1, 'régimes': 3, 'stochastique': 2, 'shs1_2': 6, 'étude': 3, 'recis': 3, 'grec': 2, 'interprète': 8, 'géomètre': 16, 'topographe': 8, 'carthagéo': 6, 'géographique': 10, 'marne-la-vallée': 16, 'géomaticien': 7, 'météorologie': 5, 'enm': 1, 'météorologiste': 1, 'océanographie': 1, 'dessinateur-cartographe': 2, \"d'engins\": 4, 'voies': 3, 'ferrées': 1, \"d'aménagements\": 1, 'routiers': 1, 'plongeur-démineur': 3, 'automatisme': 7, 'boissons': 3, 'élastomères': 2, 'papier': 2, 'carton': 1, 'oléohydrauliques': 5, 'pneumatiques': 2, 'automatiques': 3, 'maintenicien': 27, 'automation': 2, 'pompage': 1, 'contrôlé': 1, 'réparation': 2, 'connectée': 1, \"d'aide\": 2, 'electronicien': 3, 'montage': 5, 'cybersécurité': 47, 'télésurveillance': 2, 'radar': 4, \"d'armes\": 5, 'navales': 4, 'navigant': 5, 'aéroportés': 1, 'avionique': 11, \"l'électronique\": 17, 'appareils': 3, \"d'atelier\": 14, 'numériques-': 2, 'audiovisuels': 5, 'domestiques': 1, 'ared': 1, 'itb': 1, 'optroniques': 1, 'maintenicien-chef': 3, 'commandes': 3, 'électroménagers': 1, 'instrument': 6, 'optoélectronique': 1, 'risc': 1, 'elib': 3, 'tsibh': 1, 'expérimenté': 1, 'bord': 1, 'electricite': 4, 'immotique': 3, 'médicaux': 4, 'seicom': 1, '2ème': 1, 'motorisation': 2, 'toutes': 7, 'electromécanicien': 2, 'robinetterie': 1, 'gmp': 1, 'tout': 1, 'rien': 1, 'subaquatiques': 2, 'scaphandrier': 2, 'survie': 2, 'hélicoptères': 3, 'piston': 2, \"d'aéronefs\": 4, 'porteur': 3, 'turbine': 3, 'systèmes-avionique': 1, 'aérostructure': 9, 'enspima': 2, 'légère': 2, 'moteur': 1, 'motocycles': 6, 'réceptionnaire': 1, 'légers': 3, 'véhicule': 2, 'léger': 1, 'diesel': 1, 'utilitaires': 1, 'carrosserie': 1, 'électricien': 3, 'électronicien': 2, 'reconstructeur': 1, \"d'organes\": 1, 'préparation': 9, 'compétition': 2, 'particuliers': 5, \"d'expert\": 1, 'voitures': 1, 'particulières': 1, 'routier': 2, 'vitrage': 1, \"d'officier\": 9, 'capitaine': 38, '200': 12, 'pêche': 9, '1ère': 2, '750': 4, 'kw': 18, '8000': 6, 'bateaux': 2, 'quart': 28, 'limité': 2, 'milles': 2, 'côtes': 2, '1re': 2, '8': 8, '000': 12, 'assistant-coordinateur': 6, 'aéroportée': 1, 'planification': 5, 'aéromaritimes': 5, \"d'enquête\": 3, 'événement': 2, 'aéronef': 7, 'militaire': 7, 'équipes': 3, 'enquêteur': 10, 'judiciaire': 13, 'maintien': 7, \"l'ordre\": 6, 'investigateur': 2, 'cybercriminalité': 2, \"d'arme\": 1, 'gendarmerie': 3, 'auditeur': 9, 'vidéo': 14, 'police': 2, 'intervenants': 1, 'hostile': 2, 'métropolisation': 2, 'transfrontaliers': 2, 'garde': 7, 'frontière': 4, 'criminalistiques': 1, \"d'investigations\": 2, 'malveillance': 5, \"d'unités\": 1, 'menace': 2, 'coopérations': 4, 'hyperbares': 1, 'carrière': 2, 'pompier': 1, 'opérationnels': 3, 'gendarme': 3, 'sapeur-pompier': 3, 'cynotechnique': 9, 'auxiliaire': 18, 'dressage': 6, '-cybersécurité': 4, 'défensive': 4, 'asstri': 4, 'desk': 4, 'simulateur': 2, 'vol': 9, 'télé-pilote': 2, 'mini-drone': 2, 'voilure': 2, 'fixe': 2, 'vols': 3, 'hors': 2, 'vue': 2, 'longue': 2, \"d'essais\": 1, 'cpl/ir/': 1, 'avion': 1, 'cpl/a': 1, 'ir/a': 1, 'pilot': 2, 'license/aeroplane': 2, 'rating/aeroplane': 1, 'atpl/a': 1, '–cpl': 1, '-avion': 1, 'trafic': 1, 'aériennes': 2, \"d'interception\": 1, \"l'aviation\": 2, '500': 8, 'passerelle': 17, '3000': 9, 'navire': 9, 'première': 3, 'yacht': 9, 'adjoint': 16, 'lieutenant': 1, 'matelot': 7, 'pont': 11, 'pgem': 1, 'électro-navals': 1, 'masen': 1, 'chauffeur': 3, 'ramasseur': 3, 'livreur': 2, 'marchandises': 6, 'décor': 7, 'anciennes': 3, 'monumental': 1, 'granit': 1, 'enlumineur': 1, 'décorateur': 9, 'concepteur-créateur': 2, 'décoratifs': 6, '12': 1, 'marionnettiste': 1, 'emailleur': 3, 'cuir': 6, 'papiers': 3, 'peints': 3, 'passementerie': 1, 'tapis': 5, 'matiérage': 1, 'illustration': 2, 'dessin': 1, 'animé': 1, 'bande': 1, 'dessinée': 1, 'fix': 1, 'animées': 1, 'dentelles': 1, \"l'aiguille\": 1, \"'alençon\": 1, \"'argentan\": 1, \"d'arles\": 1, 'film': 4, 'conservateur': 4, 'chevalet': 2, 'céramiques': 2, 'verre': 18, 'viii': 3, 'poterie': 1, 'céramiste': 3, 'lave': 1, 'santons': 2, \"d'argile\": 1, 'ière': 1, 'décoration': 3, 'doreur': 7, 'feuille': 2, 'restaurateur-conservateur': 1, 'tableau': 4, 'objets': 9, 'polychrome': 1, 'artisan': 1, 'ancestrales': 1, 'groupexi': 2, \"l'ameublement\": 6, 'encadreur': 5, 'rentoileur': 4, 'conservation-restauration': 2, 'finisseur': 1, 'vernisseur': 1, 'reliure': 3, 'dorure': 1, 'tranche': 1, 'facture': 3, 'instrumentale': 4, 'accordéon': 1, 'guitare': 1, 'xv': 12, \"d'orgues\": 1, 'traditionnels': 1, 'accordeur': 1, 'piano': 2, 'lutherie': 2, 'archèterie': 2, 'lutherie-archèterie': 1, 'ferronnier': 3, 'ornements': 1, 'précision': 8, 'coutellerie': 5, 'couteaux': 5, 'poche': 2, 'métalliques': 13, 'dinanderie': 1, \"d'outillage\": 1, 'chasse': 1, 'maréchalerie': 1, 'table': 12, 'bronzier': 1, 'tourneur': 3, 'bronze': 1, '16': 1, 'verrerie': 4, 'cristallerie': 3, 'gobeleterie': 1, 'assortiment': 1, 'presse-papiers': 1, 'taille': 7, 'gravure': 2, \"l'architecture\": 1, 'transparence': 1, 'tailleur': 3, 'soufflage': 1, 'chalumeau': 1, 'graveur': 1, 'souffleur': 1, 'enseigne': 2, 'lumineuse': 1, 'joaillerie': 2, 'gemmologue': 1, 'bijouterie-joaillerie': 1, 'polissage': 2, 'bijouterie': 2, 'diamantaire': 1, 'bijou': 2, 'joyau': 2, 'gemmologie': 1, 'chirurgie': 1, 'orfèvre': 1, 'orfèvrerie': 1, 'xii': 1, \"l'armurerie\": 1, 'bijoutier': 1, 'taxidermiste': 1, 'iv': 2, 'tissage': 1, 'tisage': 1, 'soie': 1, 'tapisserie': 7, 'lisse': 2, 'rentraiture': 1, 'techiques': 1, 'expérimental': 1, 'dentelle': 2, 'fuseaux': 1, 'rentrayeur': 2, 'tapisseries': 1, 'tapissier-tapissière': 1, \"d'ameublement\": 1, 'siège': 1, 'tapissier': 3, 'garnisseur': 1, 'v': 4, 'décorative': 3, 'tapisserie-décoration': 1, 'négociateur': 13, 'conseil-expert': 1, 'volume': 1, 'staff': 3, 'chaux': 1, 'plâtrerie': 1, 'plaque': 1, 'plâtre': 2, \"l'isolation\": 2, 'monument': 1, 'artisanat': 1, 'aide-appareilleur': 1, 'stuc': 2, 'praticien': 4, 'staffeur': 1, '14': 3, 'marbriers': 1, \"d'agencement\": 2, 'vii': 3, 'maquettes': 2, 'menuiserie': 5, 'tonnellerie': 2, 'ebéniste': 7, 'agencement': 2, 'sièges': 1, 'mobiliers': 3, 'sculptés': 3, 'patrimoine-': 1, '17': 1, \"d'architecture\": 1, 'btms': 1, 'conception/fabrication': 1, 'ebénisterie': 1, 'pipier': 1, 'tournerie': 1, 'tournage': 1, 'torsage': 1, 'bibliothèque': 8, 'stid': 6, 'asiatiques': 8, 'archivistique': 5, 'tal': 4, 'afrique': 6, 'amérique': 7, 'latine': 7, 'asie': 10, 'germaniques': 10, 'traductions': 5, 'administratifs': 6, 'médiathèque': 4, 'aliments-santé': 4, '-communication': 4, 'stuctures': 4, 'fortune': 4, 'écrits': 6, 'deuxième': 68, 'délivrant': 4, 'monteur-installateur': 1, 'œuvres': 2, 'matc': 1, 'aic': 1, 'dpec': 1, 'formes': 7, 'réalité': 3, 'virtuelle': 3, 'multimedia': 4, 'ethnomusicologie': 3, 'musees': 1, 'expographie-muséographie': 1, 'savoirs': 2, 'médiévale': 3, 'crbc': 1, 'métropolitaine': 2, 'ast': 2, 'parcours-type': 5, 'régie': 1, 'grandes': 3, 'aaqcb': 1, 'pouvoirs': 2, 'étrangère': 9, 'fle': 6, 'automotive': 1, 'for': 1, 'sustainable': 1, 'mobility': 1, 'mobilité́': 2, 'emc-sm': 1, 'intelligent': 1, 'vdiv-sm': 1, 'fondamental': 5, 'orientale': 5, 'ibérique': 3, 'ibéro-américain': 2, 'egt': 1, 'epistémologie': 3, 'franco-allemande': 1, 'collège': 1, 'lycée': 1, 'formateur': 10, \"d'enseignants\": 1, 'supérieurs': 1, 'pédagogiques': 1, 'slave': 6, 'professorat': 6, 'haute': 6, 'rihma': 2, 'etrangère': 12, 'fl': 5, '–langue': 2, 'socio-écomonique': 1, 'geomatique': 3, 'audiovisuelles': 4, 'oro': 3, 'protohistoire': 2, 'africains': 2, 'fles': 1, 'secondaire': 1, \"d'exécution\": 3, 'psychopathologie': 13, 'psychanalyse': 2, 'consulting': 1, 'it': 1, 'normes': 7, 'étrangère/seconde': 1, 'russophones': 3, 'humanites': 4, 'détecteurs': 1, 'eau-cartographie-géomatique': 2, 'phytochimie': 2, 'cosmetique': 2, 'lusophones': 6, 'obligation': 1, 'mécatroniques': 1, 'sma': 2, 'virtuel': 5, 'finance-comptabilité-contrôle': 2, 'gpf': 1, 'rsg': 1, 'langage/': 1, 'logique': 1, 'ontologie': 1, 'mpref': 2, 'neuropsychologie': 3, 'gouvernement': 1, 'polonais': 2, 'egypte': 1, 'dynastique': 1, 'hellénistique': 1, 'romaine': 1, 'chinoises': 4, 'occitanes': 4, 'romanes': 4, 'psychothérapies': 2, 'psychanalytique': 4, 'monétaire': 2, 'appliquee': 1, 'altérités': 2, 'musicien': 2, \"d'orchestre\": 1, 'ergologie': 2, 'lah': 2, 'musique-musicologie': 1, 'maternelle': 3, 'idées': 2, \"d'expression\": 3, \"l'antiquité\": 1, 'âges': 1, 'maghreb': 2, 'géolinguistique': 1, 'psychopathologique': 2, 'préventive': 1, 'fonctionnements': 1, 'cognitifs': 1, 'cliniques': 4, 'enfance': 7, 'adolescence': 1, 'pédagogie': 3, 'paléoenvironnement': 1, 'archéosciences': 1, 'thérapeute': 1, 'education/formation': 3, 'éducatifs': 6, 'genealogiste': 1, 'successoral': 1, 'ea': 1, '1750-2000': 2, 'interrégionale': 1, \"l'apprentissage\": 7, 'individuelles': 1, 'involution': 1, 'capacités': 1, 'conduites': 1, 'universités': 1, 'gérontologique': 2, 'épargne': 1, 'descmo': 1, 'caviste': 5, 'interentreprises': 4, 'itinérante': 2, 'pra': 3, 'pièces': 9, 'rechange': 8, 'iseme': 4, 'technico-commerciale': 2, 'fbs': 3, 'import-export': 11, \"l'escem\": 3, 'unit': 5, 'négoce': 7, 'pmi': 6, 'beauté': 3, 'dijon-bourgogne': 7, 'export': 13, \"l'agro-alimentaire\": 14, 'ieseg': 6, 'bac+3': 6, 'échanges': 13, 'monnaie': 7, 'mercatique': 5, 'rayon': 2, 'distech': 2, \"d'assurances\": 2, 'private': 4, 'banking': 4, 'eipb': 4, 'ae': 2, '23': 1, 'couple': 1, 'débutant': 4, 'japonais': 2, 'imba': 1, 'professionnelle-': 1, 'esp': 1, 'skema': 6, 'nice': 5, 'origine': 2, 'agro-fournitures': 9, 'franchise': 5, 'commerciaux': 12, 'bts': 2, 'cesm': 2, \"d'agence\": 3, 'bem': 2, 'chambre': 2, \"d'industrie\": 2, 'nautiques': 7, 'desai': 2, 'egc': 1, 'vendeur': 17, 'parapharmacie': 1, 'sari': 2, 'céréales': 1, 'agrodistribution': 3, 'hôtellerie-tourisme': 1, 'culinaires': 2, 'cart': 3, 'telecommunciation': 2, 'voix': 16, 'isvd': 4, \"d'une\": 6, 'vitivinicole': 2, 'frigorifiques': 12, 'contenu': 1, \"d'interface\": 3, 'concepteurs': 2, 'webdesign': 2, 'sépcialité': 2, 'mind': 2, 'radiophonique': 8, 'e-rédactionnel': 1, 'intranet': 11, 'da2i': 4, 'hack': 3, 'reporter': 12, 'écrite': 3, 'musicologue': 3, 'dfs': 3, 'dnesm': 3, 'chroniqueur': 3, 'secrétaire': 13, 'son': 3, 'télévision': 3, \"d'images\": 4, 'rédacteur-reporter': 3, 'japonaises': 5, \"l'europe\": 5, 'ibériques': 6, 'latino-américaines': 5, 'perpignan': 5, 'contexte': 5, 'esiee': 6, 'électronique-informatique': 5, 'ecnantes': 3, 'marketing/vente': 4, 'gestion/finance': 4, 'lannion': 11, 'enssat': 3, 'électrotechnique-électronique': 4, 'place': 6, \"l'exportation\": 4, 'renouvelable': 6, 'acteer': 6, 'radiocommunication': 7, 'enseirb': 3, 'ensemble': 3, '3m': 5, 'laboratoires': 2, 'diététique': 8, 'préparateur': 2, 'coloriste': 1, 'formulateur': 1, 'colorés': 2, 'peintures': 1, 'encres': 1, 'adhésifs': 1, 'connexes': 3, 'incomplète': 2, 'bioexpérimentation': 1, 'aster': 1, 'mpec': 1, 'bio-raffinerie': 1, 'acquisition': 4, \"d'appareillages\": 3, 'mp': 2, 'cotie': 1, 'éco-matériaux': 1, 'aquacoles': 2, '-aquaval': 1, 'micro-procédés': 3, 'tissus': 1, 'ctcbm': 1, 'cosmétologie': 2, \"d'extraction\": 1, 'protéines': 3, 'recombinantes': 3, 'bien-être': 10, 'plaisir': 1, 'aérospatiales': 5, 'médico-sociaux': 6, 'collectivites': 2, 'finalités': 2, 'agglomérations': 1, \"l'aide\": 5, 'franco-tchèques': 1, 'psychomotricité': 1, 'référentiel': 1, 'solidarités': 2, 'inclusives': 2, 'accessibilité': 2, 'littorales': 1, 'ppasp': 1, 'mondialisations': 1, 'collaborateurs': 1, '—': 2, 'igis': 1, 'médico-sociale': 4, 'âgées': 3, 'réservée': 2, 'réservé': 1, 'francophonie': 1, 'armées': 4, 'catégories': 1, 'détective': 2, 'privées': 6, 'enquêtes': 1, 'enquêteur-agent': 2, 'rapprochée': 19, 'portuaire': 7, 'maître-chien': 6, 'renforcé': 5, 'armé': 7, 'catégorie': 6, 'sensible': 3, 'chaine': 4, 'approvisionnements': 4, \"l'achat\": 3, 'acheteur': 12, \"l'import/export\": 1, 'mode-textile': 4, 'fonction': 2, \"l'habillement\": 7, 'ifi': 3, 'mai': 2, 'oga': 2, 'flux': 19, 'péninsule': 1, 'alpi': 1, 'boisson': 1, \"d'approvisionnement\": 2, 'chain-performance': 2, 'retail': 1, 'wholesale': 1, \"d'habillement\": 1, 'interorganisationnel': 1, 'achat/vente': 1, 'acheteurs': 1, 'eti': 6, 'intermédiaire': 6, 'région': 1, '+3': 1, \"l'esce\": 2, 'ami': 3, 'globales': 4, 'chaînes': 2, 'logistiques': 18, 'marketing-vente': 8, 'actuariat': 2, 'extra-financier': 2, 'intermédiaires': 1, 'financial': 4, 'intermediary': 1, 'groupements': 1, 'edhec': 3, 'conformité': 2, 'praticiens': 9, 'essec-epsci': 9, 'econometrie': 2, 'participative': 2, 'actuaire': 1, 'mmmef': 1, 'mathématiques—spécialité': 1, 'aimaf': 1, 'micro-finance': 1, 'isifar': 2, 'comptable': 16, 'consolidation': 1, 'mafico': 1, 'cca': 4, 'general': 2, 'maitrise': 1, 'iup-sedi': 1, 'financières': 9, 'cg': 1, 'comptabilité-finance': 1, 'monnaie-finance-banque': 2, 'révision': 2, 'dec': 1, 'essca': 1, 'exécutif': 1, 'centralesupélec': 1, 'but': 1, 'lucratif': 1, 'egess': 1, 'mannheim': 1, 'pâtissier': 3, 'confiseur': 1, 'glacier': 1, 'traiteur': 2, 'coiffure': 5, 'sureté': 2, 'badge': 5, 'normandie': 6, 'fleuriste': 1, 'sellier': 5, 'avancé': 2, 'organisme': 2, 'gastronomie': 3, 'coopérative': 1, 'réparateur-gestionnaire': 1, 'omnicanal': 2, 'dépendantes': 3, 'délivré': 2, \"l'esc\": 9, 'exploitant': 2, 'isam': 1, 'entreprendre': 2, 'psb': 5, 'cuisinier': 9, 'rh': 2, '-programme': 2, 'tb': 1, 'bordeaux-paris': 1, 'inseec': 3, 'isg': 1, \"l'organisation\": 5, 'rémunérations': 3, 'emplois': 1, 'psychologique': 1, 'psto': 1, 'surêté': 1, 'maap': 1, 'paye': 1, 'langues/sciences': 3, 'istec': 7, \"l'ecg\": 2, 'multicanal': 8, 'exterieur': 3, 'transaction': 2, 'anglais-coréen': 2, 'iecg': 3, 'relation-client': 2, 'full': 14, 'stack': 10, 'web-digital': 5, \"l'essec\": 4, 'an': 4, \"l'em\": 4, 'voyage': 6, 'merchandiser': 8, 'régisseur': 6, 'assistées': 6, 'fonds': 6, 'mécénat': 4, 'nutritionnelle': 4, 'qualimapa': 4, 'technicien/ne': 5, 'gvpa': 4, 'créateur-concepteur': 6, \"d'expressions\": 5, 'dnsep': 5, 'autres': 6, 'coopératives': 8, 'lancement': 8, 'oenologie': 4, 'terroirs': 4, 'jouets': 6, 'tours-poitiers': 4, 'directe': 1, 'biotechnologie-biopharmacie': 1, 'desmi': 3, \"l'unité\": 1, 'alpes-savoie': 1, 'mass': 2, 'relationnel': 2, \"d'equipes\": 1, 'négociations': 2, 'anglais-polonais': 1, 'cila': 1, 'mrn': 1, 'librairie': 3, 'émergentes': 2, 'fiem': 2, 'veilleur': 2, 'esiee-it': 5, 'mrsi': 6, 'miage': 74, 'mobiquité': 4, 'mbd': 5, 'nomade': 2, 'rism': 2, 'sans': 18, 'fil': 16, 'ip': 4, 'bdise': 5, 'ntdp': 5, 'logiciel': 79, \"l'assurance\": 2, 'distribuée': 4, 'idse': 4, 'locaux': 1, 'asur': 10, 'intégration-administration': 4, 'e-formation': 1, 'aigeme': 1, 'test': 18, 'donnée': 6, 'chief': 6, 'bureautique': 2, 'devops': 2, 'big': 8, 'engineer': 8, 'visualisation': 4, 'décisionnels': 3, 'cloud': 10, 'computing': 6, 'chef/fe': 3, \"d'informations\": 10, 'répartis': 4, 'rsfs': 1, 'programmeur': 6, 'mido': 4, 'miage-informatique': 4, 'rt': 1, 'administration-maintenance': 3, 'réparties': 5, 'sil': 6, 'libres': 7, 'orientés': 3, 'objet': 4, 'multi-tiers': 1, 'messi': 1, 'distribués': 12, 'app': 5, 'admin': 4, 'alès': 4, 'ema': 4, 'ensma': 4, 'sig': 1, 'algorithmes': 2, 'methodes': 6, 'isr': 1, 'amoa': 3, 'logicielles': 14, 'iot': 3, 'connectées': 4, 'programmation': 7, 'assur': 2, 'sia': 3, 'collaborative': 2, 'ice': 2, 'esigelec': 4, \"d'eurecom\": 12, 'numérique-brest': 7, 'isen-brest': 7, 'opérateurs': 3, \"l'intelligence\": 5, 'amiens': 1, 'esiee-amiens': 1, 'bretagne-pays': 4, 'versailles': 3, 'saint-quentin-en-yvelines': 3, 'sûrs': 7, 'ilsen': 6, 'informaticien': 3, 'sstim': 4, 'fondements': 2, 'logicielle': 10, 'clermont-ferrand-ii': 2, 'ludique': 2, 'asic': 5, 'dauphiné': 8, 'vivarais': 8, 'telecom': 8, 'paca': 4, 'erp': 2, 'progiciels': 2, \"l'ig2i\": 1, 'cyber': 1, 'sudparis': 2, 'apprentissages': 1, 'isi': 2, 'validation': 7, \"l'exception\": 5, 'complémentaires': 8, 'cci': 9, 'améliorations': 6, 's2i': 1, 'concepteur-intégrateur': 1, 'intranet/internet': 4, 'fils': 2, 'ouverts': 4, 'voix-données': 4, 'strasbourg-europe': 2, 'epita': 2, 'administrateur/rice': 1, 'mines-telecom': 4, 'iies': 1, 'ensps': 1, 'arts-lettres-langues': 1, 'visuels': 2, 'analyste-concepteur': 1, 'voix/données': 2, 'rinf': 3, 'réparti': 6, 'stic': 5, 'bd-ia': 5, 'csia': 1, 'répartie': 9, 'intranet-internet': 6, 'rennes-i': 3, 'maine': 6, 'ensim': 4, 'nord-est': 2, 'xiv': 7, 'imprimerie': 7, 'esilv': 1, 'lead': 9, 'developper': 3, \"l'afia\": 4, 'câblage': 1, 'thd': 1, 'fibre': 3, 'ftth': 2, 'rennes-': 3, 'fiables': 3, 'ir': 3, 'communicantes': 4, 'sécurisées': 4, 'gameplay': 3, 'ddomen': 2, 'ensea': 2, 'coopératifs': 4, 'igsi': 2, 'analyste-programmeur': 2, 'compétence': 6, 'msi': 2, 'parc': 3, 'intra': 2, 'iri': 2, 'telecommunication': 2, 'cognitique': 2, 'extranet-intranet': 2, 'asrall': 3, 'esaip': 2, 'essig': 3, 'csi': 2, 'ensiie': 2, 'uga': 8, 'ingénieur': 8, 'diplômé': 2, 'métiers': 2, 'multimédia': 2, 'iosi': 2, 'micro': 8, 'igace': 4, 'concepteur-développeur': 3, 'qsrid': 2, 'miage-sitn': 2, 'internet-intranet': 2, 'internat': 2, 'sid': 2, 'ic': 2, 'user': 2, 'experience': 2, 'uxd': 2, 'imr': 3, 'développeur/euse': 4, 'bioingenierie': 3, 'ciblage': 3, 'sire': 4, 'tier': 2, 'terminaux': 2, 'simo': 2, 'microcircuit': 2, 'carte': 4, 'gtr': 2, 'dam': 2, 'front-end': 3, 'plateformes': 2, 'psi': 3, 'imafa': 2, 'mitsic': 1, 'cpi': 1, 'marin-ouvrier': 1, 'aquacole': 1, 'maritime-continentale': 1, 'conchylicole': 1, 'patron': 1, \"d'aptitude\": 3, 'cacpp': 1, 'chaussure': 1, 'maroquinier': 3, '9': 1, 'sellerie': 1, 'vêtement': 2, 'chaussures': 1, 'botterie': 1, 'podo': 1, 'orthèse': 1, 'maroquinerie': 3, 'article': 1, 'harnacheur': 1, 'mareyage': 1, 'préparateur-vendeur': 2, 'responsable-adjoint': 1, 'poissonnerie': 1, 'détail': 3, 'écailler': 1, '-vendeur': 2, 'technicien-vendeur': 5, 'raquettes': 4, 'glisse': 6, 'vendeur-conseil': 3, 'magasin': 4, 'cohabilitation': 2, 'employé': 16, 'courants': 2, 'libraire': 3, 'armurerie': 1, 'après': 1, 'vente-action': 1, 'marchande': 1, 'docker': 2, 'plaquiste-plâtrier': 1, 'isolation': 2, 'plaquiste': 1, 'état': 26, 'perfectionnement': 39, 'parachutisme': 12, 'judo-jujitsu': 5, 'volley-ball': 6, 'spéléologie': 5, 'tennis': 14, 'escalade': 5, 'contact': 6, 'taekwondo': 5, \"d'aviron\": 2, 'triathlon': 2, 'enchaînées': 2, 'rugby': 14, 'xiii': 5, 'athlétisme': 7, 'athlé': 4, 'plieur': 3, 'parachute': 4, 'surf': 4, 'entraînement': 22, 'padel': 2, 'karaté': 4, 'wushu': 2, 'canoë-kayak': 10, 'calme': 4, 'vive': 2, 'char': 7, 'entraîneur': 13, 'football': 17, 'gymniques': 11, 'acrobatique': 2, 'éveil': 2, 'handisport': 2, 'tir': 9, 'mentale': 3, \"d'équitation\": 6, 'haltérophilie': 3, 'musculation': 4, 'force': 3, 'athlétique': 2, 'entraineur': 6, \"d'entraînement\": 5, 'epms': 2, 'déficiences': 3, 'intellectuelles': 3, 'trouble': 3, 'psychiques': 3, 'initiateur': 4, 'badminton': 8, 'pentathlon': 3, 'billard': 3, 'escrime': 4, 'motonautique': 4, \"d'epms\": 5, 'aide-moniteur': 4, 'professeur': 9, 'equitation': 4, 'ski': 16, 'alpin': 4, 'boxe': 8, 'anglaise': 3, 'course': 5, \"d'orientation\": 6, 'pelote': 4, 'basque': 4, 'plongée': 5, 'subaquatique': 5, 'glace': 29, 'bobsleigh': 4, 'hockey': 13, 'gazon': 3, 'nordique': 4, 'fond': 4, 'trampoline': 3, 'acrobatiques': 3, 'hippiques': 4, 'cavalier': 3, 'cheerleading': 2, 'patinage': 7, 'vitesse': 4, 'eps': 3, 'soufflerie': 5, 'cyclisme': 7, 'inadaptations': 3, 'savate': 5, 'libre': 2, 'basket-ball': 8, 'portant': 1, 'wakeboard': 3, 'aïkido': 3, 'aïkibudo': 1, 'adapté': 2, 'téléski': 2, 'roller': 2, '-moniteur': 2, 'aviron': 3, 'baseball': 3, 'softball': 3, 'cricket': 1, 'équitation': 5, 'équestre': 3, 'western': 2, 'tradition': 2, 'attelage': 3, 'apa-s': 3, \"l'arc\": 3, 'educateur': 5, 'handball': 4, 'socio-éducatives': 1, 'sociétales': 1, 'tractés': 2, 'natation': 7, 'motocyclisme': 4, 'squash': 3, 'agapsc': 2, 'motricité': 5, 'stadium': 1, 'enceintes': 1, 'réparateur': 5, 'motorisés': 4, 'guidon': 4, 'quad': 2, 'moto': 1, 'piste': 2, 'karting': 1, 'boule': 2, 'gymnastique': 2, 'water-polo': 1, 'instructeur': 1, 'fitness': 2, 'cours': 1, 'collectifs': 2, 'personal': 1, 'training': 1, 'soigneur': 4, \"d'alpinisme-guide\": 1, \"l'insep\": 1, 'cartographe': 1, 'patinoire': 2, 'bp-brevet': 1, 'stade': 1, 'demi-fond': 1, 'marche': 1, 'running': 1, 'trail': 1, 'accu': 2, 'shiatsu': 2, 'américain': 1, 'flag': 1, 'ascensionnel': 1, 'enseignant': 3, '55': 1, 'sportspécialité': 1, 'randonnée': 1, 'proximité': 1, \"d'opposition\": 1, 'vidéo/photo': 1, 'tandem': 1, 'judo-jiu-jitsu': 1, 'roller-skating': 2, 'synchronisée': 1, 'affinitaires': 2, 'epi': 1, 'parapente': 1, 'delta': 1, 'sportice': 2, 'activite': 1, 'adaptee': 1, 'troisième': 1, 'animation-gestion': 1, 'vélo': 1, 'éducateur': 1, 'grimpe': 1, \"d'arbres\": 1, \"d'escrime\": 2, 'fleuret': 2, 'épée': 2, 'sabre': 2, 'bouliste': 2, 'senior': 2, \"d'alpinisme\": 1, 'nautique-wakeboard': 1, 'universitaires': 3, 'plat': 2, 'pugilistiques': 1, 'rythmique': 1, 'judo': 1, 'jiu-jitsu': 1, 'culturisme': 1, 'éducative': 1, 'sambo': 2, 'plongeon': 1, 'poney': 1, 'aide-animateur': 1, 'chaudronnier': 6, 'soudeur': 6, 'tig': 3, 'semi-automatique': 3, 'formage': 2, 'réalisations': 3, 'chaudronnés': 1, 'serrurerie': 1, 'métallier': 2, 'tuyauteur': 4, 'électrode': 1, 'enrobée': 1, 'assembleur': 1, 'calorifugeur': 1, 'anticorrosion': 4, 'cathodique': 1, 'microondes': 1, 'optiques': 1, 'polytechniques': 1, 'spatial': 2, 'communication-': 1, 'vdi': 1, 'remontées': 2, 'meedd': 1, 'aménageur': 1, 'embarcations': 1, 'multimodaux': 4, \"l'accueil\": 3, 'multimodal': 1, 'levage': 1, 'réfraction': 1, 'help': 2, 'imprimée': 1, 'modélisateur': 1, 'unitaire': 1, 'sérielle': 1, 'enveloppe': 2, 'lot': 1, 'cmi': 1, 'd2m': 1, 'pec': 2, 'carrosseries': 3, 'spectroscopy': 1, 're': 1, 'simil-tra': 1, 'spatiaux': 2, 'excellence': 4, 'lait': 5, 'alim': 5, 'unités': 7, 'nord-pas': 3, 'mécanique-productique': 4, 'provence-alpes-côte': 3, 'toulon': 2, \"l'ecam\": 4, 'diplômé': 3, 'matériaux': 3, 'recharge': 3, \"l'industrialisation\": 1, 'chimie-matériaux': 3, 'dets': 1, 'prestation': 3, \"d'usinage\": 1, \"d'essai\": 1, 'informatisé': 1, '/physique': 1, 'ugv': 1, 'sous-ensembles': 1, 'enstbb': 2, 'enstimd': 4, 'cherbourg': 1, 'eic': 1, 'eigsi': 5, \"polytech'clermont-ferrand\": 1, \"d'aéronautique\": 1, 'injectées': 1, 'elastomère': 1, 'aeroteam': 1, 'extractive': 1, 'métallurgique': 1, 'ebi': 1, 'rapides': 1, 'assistés': 3, 'oop': 1, 'vega': 1, 'parachimiques': 1, 'cfppai': 1, 'champagne-ardenne': 3, \"d'albi-carmaux\": 2, 'ima': 2, 'ecoconception': 2, 'soudée': 3, 'pré-industrialisation': 1, 'dao/cao/fao': 1, 'moulage': 1, 'cuite': 1, 'éco-plasturgie': 1, 'recherche-professionnel': 3, 'ica': 3, 'itech': 5, 'pétrochimie': 2, 'mont': 4, 'blanc': 4, 'silicium': 4, 'vers': 4, 'mstia': 4, 'organiques': 4, 'mension': 2, 'bioindustrie': 2, 'recherche-développement': 2, 'volumineuses': 2, 'denrées': 4, 'inspection': 2, 'miqse': 2, 'e.e.a': 2, 'ceo': 2, 'qte': 4, 'mqsei': 2, 'mécaniciens': 2, 'micpi': 2, 'tarbes': 4, 'parfumerie': 7, 'machines-outils': 3, 'paris-vii': 1, 'inpt': 3, 'mip': 1, 'imq': 1, 'promat-': 1, 'divisés': 1, 'poreux': 1, 'couch': 3, 'mince': 3, 'dimensionnelle': 1, 'biotransformation': 3, 'éclairage': 1, 'qualiticien': 1, 'harmonisation': 1, 'poitou-charentes': 3, 'cfao': 1, 'retoucheur': 1, 'tôle': 1, 'nue': 1, 'europlastics': 1, 'epc': 1, 'co': 1, 'multitechniques': 1, 'métrologie-contrôle-qualité': 1, 'mcq': 1, 'animalière': 2, \"d'energie\": 2, 'chaines': 2, 'traction': 2, 'ense3': 4, 'process-produit-peinture': 2, 'pc-spi': 2, 'assemblage': 2, 'simultanée': 2, 'pétroliers': 2, 'décolletage': 2, \"d'extrusion\": 2, 'biomolécule': 3, 'bce': 3, 'carnés': 2, 'neufs': 2, 'saam-tn': 2, 'mesure-analyse': 2, 'st-etienne': 2, 'alpes': 2, 'enim': 4, 'autonome': 2, 'câbleur': 3, 'outillages': 3, 'ajusteur': 2, 'découper': 1, 'emboutir': 1, 'fraiseur': 3, 'conventionnelles': 1, 'régleur-décolleteur': 1, 'modeleur': 2, 'coupe': 1, 'régleur': 1, 'opérateur-régleur': 1, 'machine-outil': 1, 'enlèvement': 1, 'outilleur': 1, 'découpe': 1, \"d'emboutissage\": 1, 'moulés': 1, 'féron': 1, 'métallurgiste': 1, 'traditionnel': 1, 'temball': 2, 'guidés': 2, 'atomicien': 2, 'maintenance-contrôles': 2, 'destructifs': 2, 'prévisionnelle': 2, 'geii': 2, \"l'ecobâtiment\": 2, 'isesa': 2, 'estaca': 2, 'équipier': 1, 'cynophile': 6, 'renforcée': 2, 'sensibles': 2, 'cynotechnicien': 5, \"l'évènementiel\": 1, \"d'immeubles\": 1, 'pisteur': 1, 'vtt': 1, 'manoeuvre': 1, 'chien': 7, 'vidéoprotection': 2, 'accès': 1, 'alarme': 1, 'surveillant': 3, 'nuit': 5, 'médico-social': 9, 'commun': 1, 'lieux': 1, 'sociéte': 1, 'aqsp': 1, 'casinos-jeux': 1, 'videoprotection': 1, 'officier': 1, 'personnalité': 2, 'stationnement': 3, \"d'explosifs\": 1, 'stupéfiants': 1, 'chiens': 4, \"d'avalanche\": 1, \"d'assaut\": 1, 'patrouille': 1, 'voyageurs': 2, 'réduite': 3, 'concierge': 2, \"d'immeuble\": 4, 'établissement': 2, \"d'évènementiels\": 2, 'hcr': 2, 'hôtels': 2, 'cafés': 2, 'restaurant': 2, 'immeubles': 2, 'digitaux': 1, 'gamification': 2, 'podcaster': 2, 'documentariste': 2, 'réel': 1, 'écoresponsable': 1, 'illustrateur': 2, '2d/3d': 2, 'éco-responsable': 4, 'numerique': 2, 'donnees': 1, 'edition': 1, 'photographiques': 1, 'intéractif': 1, 'mapi': 1, 'vfx': 1, 'infographe': 2, 'socio-éducatifs': 1, 'usetic': 1, 'evénement': 1, 'motion': 1, 'ensp': 1, 'arles': 1, 'monteur-effets': 1, 'effets': 3, 'interactif': 1, 'audiovisuelle': 1, 'beaux-': 1, 'personnage': 1, 'concepteur-webdesigner': 1, 'conceptrice': 1, 'rédactrice': 1, 'vidéoludique': 2, 'audiovisuelle/multimédia': 1, 'multi-supports': 2, 'convergence': 1, 'cian': 1, 'multisupports': 1, 'medit': 1, 'picturale': 1, 'photographe': 1, 'vidéaste': 1, 'cultural': 1, 'iic': 1, 'publicitaire': 1, 'informatisés': 1, 'crédit': 1, 'conseils': 1, 'sp.assurance': 1, 'banque-finances': 1, \"d'actifs\": 1, 'épicerie': 2, \"d'accompagnement\": 6, 'pastorale': 1, 'vie-vieillissement': 1, 'formateurs': 1, 'comportementaliste-médiateur': 1, 'compagnie': 1, 'enfants': 6, 'adolescent': 4, 'maîtresse': 1, 'euroméditerranée': 2, 'protestante': 1, 'sourds': 2, 'étrangères.spécialité': 5, 'scolarisation': 1, 'besoins': 4, 'plurilinguisme': 2, 'ibéro-américaines': 1, 'co-diplomation': 1, 'karl-franzens-universität': 1, 'graz': 1, 'autriche': 1, 'katholieke': 1, 'universiteit': 1, 'leuven': 1, 'belgique': 1, 'diversité': 2, 'educatifs': 2, 'enseigner': 5, \"d'oc\": 1, \"d'école\": 2, 'ca': 3, \"l'autriche\": 2, 'perspective': 2, 'transnationales': 2, 'contextes': 1, 'agence': 1, \"d'expertise\": 1, 'gestion-finance': 1, 'hospitalier': 1, 'généraux': 3, \"d'anticipation\": 1, 'aléatoire': 1, 'pme/pmi': 1, 'entreprises/': 1, 'médico-sociales': 1, 'financiere': 1, 'trésorerie': 1, 'control': 1, 'scolaires': 1, 'dscg': 2, 'pmo': 1, \"d'assurance\": 1, 'mfci': 1, 'comptabilité-contrôle-audit': 1, 'magasinier': 3, 'h/f': 1, 'répartition': 1, 'entrepôt': 3, 'vendeur-magasinier': 1, 'aériens': 3, 'portuaires': 4, 'multimodale': 1, 'déclarant': 2, 'douane': 2, 'malo': 1, 'gsl': 2, \"d'entreposage\": 2, 'planificateur': 1, 'prestations': 1, 'siglis': 1, 'logisticien': 3, '/technicienne': 1, 'havre': 1, 'forgeage': 1, 'agréeur': 1, 'fruit': 2, 'légumes': 2, 'entreposage': 1, 'stock': 1, 'courrier-colis': 1, 'dangereuses': 1, 'chapiteaux': 1, 'souterrains': 1, 'raccordeur': 1, 'périscolaire': 3, 'jeune': 3, \"l'enfant\": 3, 'généraliste': 7, 'puéricultrice': 1, '2nd': 1, 'degre': 2, 'esport': 1, \"d'organismes\": 2, 'communiquants': 1, \"d'aidants\": 4, '-mention': 3, 'mondiales': 3, 'théâtrales': 3, 'masse': 1, 'scénographies': 1, 'scociale': 1, 'mi': 1, \"l'animal\": 1, 'routière': 1, 'ludo-pédagogique': 1, 'encadrant': 1, \"l'économique\": 1, 'etaie': 1, \"l'insertion\": 2, 'réinsertion': 1, \"d'éducateur\": 1, 'accompagnant': 3, \"d'hospitalité\": 2, 'aslh': 2, 'familial': 5, \"d'assistant\": 1, \"d'auxiliaire\": 2, 'deavs': 2, 'conducteur-e': 1, 'accompagnateur-e': 1, 'accueillant': 1, 'familles': 4, 'gouvernant': 2, \"d'enfants\": 3, 'maternel': 1, 'scolaire': 3, \"d'accès\": 2, 'daeu': 2, \"l'encadrement\": 1, 'm3e': 1, 'breaking': 1, \"d'ateliers\": 1, 'vivants': 2, 'maaav': 1, 'modales': 1, 'savante': 1, 'groom': 1, 'crémier': 1, 'fromager': 1, 'boucher': 2, 'boucherie': 1, 'charcuterie-traiteur': 1, 'sommelier-conseil': 2, 'conseil-qualité': 1, 'sommelier': 1, 'ambassadeur': 1, 'spa': 10, 'thermal': 5, 'hydro-praticien': 1, 'hydrobalnéologue': 2, 'hydro-technicien': 1, 'thalassothérapie': 2, 'maquilleur': 4, 'animatrice': 2, 'x': 1, 'maquillage': 1, 'digitalisation': 1, 'croupier': 2, 'casino': 1, \"d'étage\": 1, 'crêpier': 2, 'commis': 2, 'hôtel': 1, 'barman': 2, 'limonadier': 1, 'sommellerie': 1, 'rang': 1, 'serveur': 1, 'hôtellerie/restauration': 1, 'brasserie-café': 1, 'visiteur': 1, 'auprès': 2, 'agées': 1, 'aapapd': 1, 'domicile': 3, 'dépendance': 3, \"d'accompagnant\": 2, 'maraudeur': 1, \"d'hygiène\": 1, 'paramédical': 1, 'george': 1, 'achard': 1, 'artiste': 14, 'comédien': 4, 'corporel': 2, 'mime': 4, 'clown': 6, 'électrodomestique': 1, 'usagers': 1, 'motocycliste': 2, 'livraison': 1, 'plis': 1, 'colis': 1, 'câbles': 1, 'téléphérique': 1, 'bi-câble': 1, 'funiculaire': 1, 'assimilés': 1, \"d'engin\": 1, 'damage': 1, 'dentaire': 1, 'zoologique': 1, 'toiletteur': 4, 'canin': 4, 'félin': 1, 'nac': 1, 'xvii': 1, 'toilettage': 1, 'coiffeur': 2, 'styliste-visagiste': 1, \"l'esthétique\": 1, 'coiffure-création': 1, 'formation-marque': 1, 'esthéticien-cosméticien': 1, 'prothésiste': 1, 'ongulaire': 1, 'esthéticien': 1, 'tatoueur': 1, 'thermale': 1, 'esthéticienne': 2, 'vendeuse': 1, 'bien': 2, 'être': 2, 'remise': 1, 'scénariste': 2, 'lapc': 2, 'corpus': 1, 'lilac': 1, \"d'oeuvres\": 1, 'tsm': 1, 'sous-titrage': 1, 'doublage': 1, 'intercepteur': 1, 'interpretation': 1, 'allégée': 1, 'collective': 3, 'gastronomique': 1, 'grilladin': 1, 'embarqué': 1, \"d'amélioration\": 1, 'multitechnique': 1, 'technicienne': 1, 'amrl': 1, 'micro-processeurs': 1, 'irsii': 1, 'intelligente': 1, 'aile': 1, 'micro-informatique': 1, 'dépanneur': 1, \"d'ergothérapeute\": 2, 'ostéopathe': 3, 'masseur-kinésithérapeute': 2, 'médico-psychologique': 1, 'deamp': 1, 'bio-nettoyage': 1, 'soin': 1, 'sophrologue': 7, 'technico-opérateur': 1, 'périnatal': 1, 'réflexologue': 1, 'coaching': 1, 'famille': 1, 'massage': 1, 'responsable-coordonnateur': 1, \"d'inclusion\": 2, 'cisp': 2, 'maas': 1, 'cohésion': 1, 'dea': 1, 'handicapées': 1, 'difficulté': 1, 'gopas': 1, 'enfant': 1, \"l'homme\": 1, 'éthnologie': 1, \"d'établissements\": 1, 'normal': 1, 'pathologique': 1, 'esdoc': 1, 'illettrisme': 1, 'littorale': 1, 'éduquer': 1, 'histoire-geographie': 1, 'codeur': 1, 'parlée': 1, 'complétée': 1, 'physique-eea': 1, 'sp.critiques': 1, 'opérationnelle': 1, 'à': 1, 'décision': 1, 'musical': 3, 'scénique': 2, \"d'artiste\": 1, 'dnsp': 1, 'ac': 1, 'marionnette': 1, 'médico': 1, \"l'événement\": 1, 'réceptions': 1, 'notation': 1, 'chorégraphié': 1, 'danseur': 1, 'dnesc': 1, 'att': 1, 'prive': 1}\n"
     ]
    }
   ],
   "source": [
    "all_words = [word for sentence in texts_reduced for word in sentence.split()]\n",
    "word_counts = dict(Counter(all_words))\n",
    "print(\"Word counts:\", word_counts)\n"
   ]
  },
  {
   "cell_type": "code",
   "execution_count": 82,
   "id": "2383776e",
   "metadata": {},
   "outputs": [],
   "source": [
    "model = Word2Vec(vector_size=300,\n",
    "                 window=5,\n",
    "                 null_word=len(word_counts))\n",
    "model.build_vocab_from_freq(word_counts)"
   ]
  },
  {
   "cell_type": "markdown",
   "id": "0b48e7ec",
   "metadata": {},
   "source": [
    "<div class='alert alert-block alert-info'>\n",
    "            Code:</div>"
   ]
  },
  {
   "cell_type": "code",
   "execution_count": 83,
   "id": "895599f4",
   "metadata": {},
   "outputs": [],
   "source": [
    "\n",
    "preprocessed_corpus = [word_tokenize(sentence) for sentence in texts_reduced]\n"
   ]
  },
  {
   "cell_type": "code",
   "execution_count": 84,
   "id": "157ba2c6",
   "metadata": {},
   "outputs": [
    {
     "data": {
      "text/plain": [
       "(3669178, 5538270)"
      ]
     },
     "execution_count": 84,
     "metadata": {},
     "output_type": "execute_result"
    }
   ],
   "source": [
    "model.train(preprocessed_corpus, total_examples=len(preprocessed_corpus), epochs=30, report_delay=1)"
   ]
  },
  {
   "cell_type": "code",
   "execution_count": 86,
   "id": "a5b41444",
   "metadata": {},
   "outputs": [
    {
     "name": "stdout",
     "output_type": "stream",
     "text": [
      "Words in vocabulary: 2257\n"
     ]
    }
   ],
   "source": [
    "x = model.wv.index_to_key\n",
    "print(\"Words in vocabulary:\",len(x))"
   ]
  },
  {
   "cell_type": "markdown",
   "id": "cb5e1daa",
   "metadata": {},
   "source": [
    "Then, we can re-use the ```sentence_representations```function like before to obtain document representations, and apply classification. \n",
    "<div class='alert alert-block alert-info'>\n",
    "            Code:</div>"
   ]
  },
  {
   "cell_type": "code",
   "execution_count": 104,
   "id": "481fb243",
   "metadata": {},
   "outputs": [],
   "source": [
    "vocab = {word: idx for idx, word in enumerate(model.wv.index_to_key)}\n",
    "embedding_matrix = np.zeros((len(vocabulary), 300))\n",
    "\n",
    "\n",
    "for word, idx in vocab.items():\n",
    "    embedding_matrix[idx] = model.wv[word]  \n"
   ]
  },
  {
   "cell_type": "code",
   "execution_count": 109,
   "id": "821b8983",
   "metadata": {},
   "outputs": [],
   "source": [
    "def sentence_representations(texts, vocabulary, embeddings, np_func=np.mean):\n",
    "    representations = []\n",
    "    for text in texts:\n",
    "        indexes = [vocabulary[word] for word in text if word in vocabulary]\n",
    "        if indexes:\n",
    "            sent_rep = np_func(embeddings[indexes, :], axis=0)\n",
    "            representations.append(sent_rep)\n",
    "        else:\n",
    "            representations.append(np.zeros(embeddings.shape[1],))\n",
    "    return np.array(representations)\n",
    "\n",
    "X_train = sentence_representations(x_train, vocab, embedding_matrix)\n",
    "X_test = sentence_representations(x_test, vocab, embedding_matrix)\n"
   ]
  },
  {
   "cell_type": "code",
   "execution_count": 110,
   "id": "a058baeb",
   "metadata": {},
   "outputs": [
    {
     "name": "stdout",
     "output_type": "stream",
     "text": [
      "Classification Accuracy: 0.20\n"
     ]
    }
   ],
   "source": [
    "classifier = LogisticRegression(max_iter=3000, C=0.5)  \n",
    "classifier.fit(X_train, labels_reduced) \n",
    "y_pred = classifier.predict(X_test)\n",
    "accuracy = accuracy_score(test_labels, y_pred)  \n",
    "\n",
    "print(f\"Classification Accuracy: {accuracy:.2f}\")\n"
   ]
  },
  {
   "cell_type": "markdown",
   "id": "b21842b8",
   "metadata": {},
   "source": [
    "<div class='alert alert-block alert-warning'>\n",
    "            Question:</div>\n",
    "            \n",
    "Comment on the results. What is the big issue with the dataset that using embeddings did not solve ? \n",
    "**Given this type of data**, what would you propose if you needed solve this task (i.e, reach a reasonnable performance) in an industrial context ? "
   ]
  },
  {
   "cell_type": "markdown",
   "id": "4acf3e58",
   "metadata": {},
   "source": [
    "**Answer** :\n",
    "\n",
    "The primary issue that embeddings didn't resolve might be the lack of contextual relevance or insufficient data diversity, causing poor generalization. If embeddings from Word2Vec didn’t capture enough semantic nuances due to sparse or unrepresentative training data, the model may struggle with accuracy. In an industrial context, I'd propose using pre-trained embeddings from models like BERT or GPT, which offer richer contextual representations. Additionally, augmenting the dataset and incorporating more feature engineering to include syntactic and semantic metadata could enhance model robustness. Leveraging ensemble learning or more advanced deep learning architectures could also improve performance."
   ]
  }
 ],
 "metadata": {
  "kernelspec": {
   "display_name": "Python 3 (ipykernel)",
   "language": "python",
   "name": "python3"
  },
  "language_info": {
   "codemirror_mode": {
    "name": "ipython",
    "version": 3
   },
   "file_extension": ".py",
   "mimetype": "text/x-python",
   "name": "python",
   "nbconvert_exporter": "python",
   "pygments_lexer": "ipython3",
   "version": "3.11.7"
  }
 },
 "nbformat": 4,
 "nbformat_minor": 5
}
